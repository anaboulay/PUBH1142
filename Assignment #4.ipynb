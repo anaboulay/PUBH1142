{
 "cells": [
  {
   "cell_type": "markdown",
   "id": "b5b1b74e",
   "metadata": {},
   "source": [
    "# Ana Boulay Assignment #4"
   ]
  },
  {
   "cell_type": "markdown",
   "id": "b28e9367",
   "metadata": {},
   "source": [
    "## Quiz Questions"
   ]
  },
  {
   "cell_type": "markdown",
   "id": "73e76f56",
   "metadata": {},
   "source": [
    "### Question #1: What is the difference between a spreadsheet and a database?\n",
    "#### A spreadsheet is a grid-based tool used for organizing, analyzing and storing data in rows and columns and is used for smaller datasets and simple calculations. A database, however, is a collection of data that allows for advanced management and manipulation of large datasets. \n",
    "\n",
    "### Question #2: What are the advantages and disadvantages of using a spreadsheet for health data management?\n",
    "#### Some advantages are that a spreadsheet is user-friendly, flexible and good for small datasets. Disadvantages include that they can be error prone, and as data sets get larger spreadsheets can become slow and inefficient.  \n",
    "\n",
    "### Question #3: What are the advantages and disadvantages of using a database for health data management?\n",
    "#### Advantages for using a database for health data management are that they can handle large volumes of data, and they are secure, while disadvantages include cost, complexity and are resource-intensive. \n",
    "\n",
    "### Question #4: What are some examples of tasks that can be performed using a spreadsheet?\n",
    "#### Budgeting and financial tracking, data analysis, intentory tracking, and creating simple reports and charts. \n",
    "\n",
    "### Question #5: What are some examples of tasks that can be performed using a database?\n",
    "#### Customer relationship management, healthcare record management, and inventory management. \n",
    "\n",
    "### Question #6: What are some examples of tasks that can be performed using both a spreadsheet and a database?\n",
    "#### Data entry and tracking, report generation, data analysis and budget management. \n",
    "\n",
    "### Question #7: What are some examples of tasks that can be performed using neither a spreadsheet nor a database\n",
    "#### Graphic design, video editing, 3D modeling or animation. \n",
    "\n",
    "### Question #8: What are some examples of tasks that can be performed using a spreadsheet but not a database?\n",
    "#### Creating interactive charts or graphs for presentation, generating and printing customized forms. \n",
    "\n",
    "### Question #9: What are some examples of tasks that can be performed using a database but not a spreadsheet?\n",
    "#### advanced data relationships, transaction management, automated and complex querying. \n",
    "\n",
    "### Question #10: What are some examples of tasks that can be performed using both a spreadsheet and a database?\n",
    "#### Tracking expenses, simple data analysis, managing contact lists, generating simple reports. "
   ]
  },
  {
   "cell_type": "markdown",
   "id": "e8e89c17",
   "metadata": {},
   "source": []
  }
 ],
 "metadata": {
  "kernelspec": {
   "display_name": ".venv",
   "language": "python",
   "name": "python3"
  },
  "language_info": {
   "name": "python",
   "version": "3.13.1"
  }
 },
 "nbformat": 4,
 "nbformat_minor": 5
}
