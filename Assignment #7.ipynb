{
 "cells": [
  {
   "cell_type": "markdown",
   "id": "61bc8065",
   "metadata": {},
   "source": [
    "# Ana Boulay Assignment #7"
   ]
  },
  {
   "cell_type": "markdown",
   "id": "9f166ff5",
   "metadata": {},
   "source": [
    "## Quiz Questions"
   ]
  },
  {
   "cell_type": "markdown",
   "id": "aa11d7d3",
   "metadata": {},
   "source": [
    "### Question #1: How do you define a list in Python?\n",
    "#### By [] brackets: my_list = [1, 2, 3, 4, 5]\n",
    "\n",
    "### Question #2: How do you access the third element of a Python list named my_list?\n",
    "#### third_element = my_list[2]\n",
    "\n",
    "### Question #3: How can you add the element \"new_item\" to the end of an existing list named my_list?\n",
    "#### my_list.append(\"new_item\")\n",
    "\n",
    "### Question #4: How do you create a Python tuple with the items \"apple\", \"banana\", and \"cherry\"?\n",
    "#### Inside paratheses: my_tuple = (\"apple\", \"banana\", \"cherry\")\n",
    "\n",
    "### Question #5: How do you access the first element of a Python tuple named my_tuple?\n",
    "#### first_element = my_tuple[0]\n",
    "\n",
    "### Question #6: How do you define a dictionary in Python with keys \"name\", \"age\" and values \"John Doe\", 30?\n",
    "#### my_dict = {\"name\": \"John Doe\", \"age\": 30}\n",
    "\n",
    "### Question #7: How can you retrieve the value for the key \"name\" from the dictionary my_dict\n",
    "#### name_value = my_dict[\"name\"]\n",
    "\n",
    "### Question #8: How can you change the value associated with the key \"age\" in the dictionary my_dict to 35?\n",
    "#### my_dict[\"age\"] = 35\n",
    "\n",
    "### Question #9: How can you add a new key-value pair \"city\":\"New York\" to the dictionary my_dict?\n",
    "#### my_dict[\"city\"] = \"New York\"\n",
    "\n",
    "### Question #10: How do you create a set in Python with the items \"apple\", \"banana\", and \"cherry\"?\n",
    "#### my_set = {\"apple\", \"banana\", \"cherry\"}\n",
    "\n",
    "### Question #11: How do you add the item \"orange\" to an existing set my_set?\n",
    "#### my_set.add(\"orange\")\n",
    "\n",
    "### Question #12: How do you remove the item \"banana\" from the set my_set?\n",
    "#### my_set.remove(\"banana\")\n",
    "\n",
    "### Question #13: What is the length of a list my_list with elements [1, 2, 3, 4, 5]?\n",
    "#### len(my_list)  \n",
    "\n",
    "### Question #14: What will be the result of my_list * 2 if my_list is [1, 2, 3]?\n",
    "#### my_list * 2  \n",
    "\n",
    "### Question #15: What is the result of set([1,2,2,3,4,4,4,5,5])?\n",
    "#### {1, 2, 3, 4, 5}"
   ]
  },
  {
   "cell_type": "markdown",
   "id": "4cb2b757",
   "metadata": {},
   "source": []
  }
 ],
 "metadata": {
  "kernelspec": {
   "display_name": ".venv",
   "language": "python",
   "name": "python3"
  },
  "language_info": {
   "name": "python",
   "version": "3.13.1"
  }
 },
 "nbformat": 4,
 "nbformat_minor": 5
}
