{
 "cells": [
  {
   "cell_type": "markdown",
   "id": "874fcee2",
   "metadata": {},
   "source": [
    "# Ana Boulay Assignment #12"
   ]
  },
  {
   "cell_type": "markdown",
   "id": "41a606ed",
   "metadata": {},
   "source": [
    "## Quiz Questions"
   ]
  },
  {
   "cell_type": "code",
   "execution_count": 15,
   "id": "8a744955",
   "metadata": {},
   "outputs": [],
   "source": [
    "# Seed the pseudo-random number generator\n",
    "np.random.seed(12)\n",
    "\n",
    "# Sample size\n",
    "n=100\n",
    "\n",
    "# Create data\n",
    "wcc = np.round(np.random.normal(15, 5, n), 0)\n",
    "crp = (wcc * 2) + np.round(np.random.normal(0, 10, n), 0)\n",
    "\n",
    "lipase = wcc + crp + np.round(np.random.normal(2, 10, n), 0)\n",
    "\n",
    "# Pandas dataframe obejct\n",
    "df = DataFrame(\n",
    "    {'WCC':wcc,\n",
    "     'CRP':crp,\n",
    "     'Lipase':lipase}\n",
    ")\n",
    "px.scatter_matrix(\n",
    "    df,\n",
    "    title='Scatter plot matrix'\n",
    ")\n",
    "# Target vector and design matrix\n",
    "y, X = dmatrices('Lipase ~ WCC + CRP', data = df)"
   ]
  },
  {
   "cell_type": "code",
   "execution_count": 16,
   "id": "75dc1a4a",
   "metadata": {},
   "outputs": [
    {
     "data": {
      "text/html": [
       "<table class=\"simpletable\">\n",
       "<tr>\n",
       "        <td>Model:</td>               <td>OLS</td>         <td>Adj. R-squared:</td>     <td>0.759</td> \n",
       "</tr>\n",
       "<tr>\n",
       "  <td>Dependent Variable:</td>      <td>Lipase</td>             <td>AIC:</td>         <td>754.2907</td>\n",
       "</tr>\n",
       "<tr>\n",
       "         <td>Date:</td>        <td>2025-04-21 22:12</td>        <td>BIC:</td>         <td>762.1062</td>\n",
       "</tr>\n",
       "<tr>\n",
       "   <td>No. Observations:</td>         <td>100</td>         <td>Log-Likelihood:</td>    <td>-374.15</td>\n",
       "</tr>\n",
       "<tr>\n",
       "       <td>Df Model:</td>              <td>2</td>           <td>F-statistic:</td>       <td>157.3</td> \n",
       "</tr>\n",
       "<tr>\n",
       "     <td>Df Residuals:</td>           <td>97</td>        <td>Prob (F-statistic):</td> <td>3.61e-31</td>\n",
       "</tr>\n",
       "<tr>\n",
       "      <td>R-squared:</td>            <td>0.764</td>            <td>Scale:</td>         <td>107.28</td> \n",
       "</tr>\n",
       "</table>\n",
       "<table class=\"simpletable\">\n",
       "<tr>\n",
       "      <td></td>       <th>Coef.</th> <th>Std.Err.</th>    <th>t</th>     <th>P>|t|</th> <th>[0.025</th>  <th>0.975]</th>\n",
       "</tr>\n",
       "<tr>\n",
       "  <th>Intercept</th> <td>2.3741</td>  <td>3.0129</td>  <td>0.7880</td>  <td>0.4326</td> <td>-3.6056</td> <td>8.3538</td>\n",
       "</tr>\n",
       "<tr>\n",
       "  <th>WCC</th>       <td>0.5426</td>  <td>0.2684</td>  <td>2.0213</td>  <td>0.0460</td> <td>0.0098</td>  <td>1.0754</td>\n",
       "</tr>\n",
       "<tr>\n",
       "  <th>CRP</th>       <td>1.1827</td>  <td>0.1014</td>  <td>11.6636</td> <td>0.0000</td> <td>0.9814</td>  <td>1.3839</td>\n",
       "</tr>\n",
       "</table>\n",
       "<table class=\"simpletable\">\n",
       "<tr>\n",
       "     <td>Omnibus:</td>    <td>0.113</td>  <td>Durbin-Watson:</td>   <td>1.936</td>\n",
       "</tr>\n",
       "<tr>\n",
       "  <td>Prob(Omnibus):</td> <td>0.945</td> <td>Jarque-Bera (JB):</td> <td>0.287</td>\n",
       "</tr>\n",
       "<tr>\n",
       "       <td>Skew:</td>     <td>0.029</td>     <td>Prob(JB):</td>     <td>0.866</td>\n",
       "</tr>\n",
       "<tr>\n",
       "     <td>Kurtosis:</td>   <td>2.744</td>  <td>Condition No.:</td>    <td>96</td>  \n",
       "</tr>\n",
       "</table><br/>\n",
       "Notes:<br/>\n",
       "[1] Standard Errors assume that the covariance matrix of the errors is correctly specified."
      ],
      "text/latex": [
       "\\begin{table}\n",
       "\\caption{Results: Ordinary least squares}\n",
       "\\label{}\n",
       "\\begin{center}\n",
       "\\begin{tabular}{llll}\n",
       "\\hline\n",
       "Model:              & OLS              & Adj. R-squared:     & 0.759     \\\\\n",
       "Dependent Variable: & Lipase           & AIC:                & 754.2907  \\\\\n",
       "Date:               & 2025-04-21 22:12 & BIC:                & 762.1062  \\\\\n",
       "No. Observations:   & 100              & Log-Likelihood:     & -374.15   \\\\\n",
       "Df Model:           & 2                & F-statistic:        & 157.3     \\\\\n",
       "Df Residuals:       & 97               & Prob (F-statistic): & 3.61e-31  \\\\\n",
       "R-squared:          & 0.764            & Scale:              & 107.28    \\\\\n",
       "\\hline\n",
       "\\end{tabular}\n",
       "\\end{center}\n",
       "\n",
       "\\begin{center}\n",
       "\\begin{tabular}{lrrrrrr}\n",
       "\\hline\n",
       "          &  Coef. & Std.Err. &       t & P$> |$t$|$ &  [0.025 & 0.975]  \\\\\n",
       "\\hline\n",
       "Intercept & 2.3741 &   3.0129 &  0.7880 &      0.4326 & -3.6056 & 8.3538  \\\\\n",
       "WCC       & 0.5426 &   0.2684 &  2.0213 &      0.0460 &  0.0098 & 1.0754  \\\\\n",
       "CRP       & 1.1827 &   0.1014 & 11.6636 &      0.0000 &  0.9814 & 1.3839  \\\\\n",
       "\\hline\n",
       "\\end{tabular}\n",
       "\\end{center}\n",
       "\n",
       "\\begin{center}\n",
       "\\begin{tabular}{llll}\n",
       "\\hline\n",
       "Omnibus:       & 0.113 & Durbin-Watson:    & 1.936  \\\\\n",
       "Prob(Omnibus): & 0.945 & Jarque-Bera (JB): & 0.287  \\\\\n",
       "Skew:          & 0.029 & Prob(JB):         & 0.866  \\\\\n",
       "Kurtosis:      & 2.744 & Condition No.:    & 96     \\\\\n",
       "\\hline\n",
       "\\end{tabular}\n",
       "\\end{center}\n",
       "\\end{table}\n",
       "\\bigskip\n",
       "Notes: \\newline \n",
       "[1] Standard Errors assume that the covariance matrix of the errors is correctly specified."
      ],
      "text/plain": [
       "<class 'statsmodels.iolib.summary2.Summary'>\n",
       "\"\"\"\n",
       "                 Results: Ordinary least squares\n",
       "=================================================================\n",
       "Model:              OLS              Adj. R-squared:     0.759   \n",
       "Dependent Variable: Lipase           AIC:                754.2907\n",
       "Date:               2025-04-21 22:12 BIC:                762.1062\n",
       "No. Observations:   100              Log-Likelihood:     -374.15 \n",
       "Df Model:           2                F-statistic:        157.3   \n",
       "Df Residuals:       97               Prob (F-statistic): 3.61e-31\n",
       "R-squared:          0.764            Scale:              107.28  \n",
       "-------------------------------------------------------------------\n",
       "            Coef.    Std.Err.      t      P>|t|     [0.025   0.975]\n",
       "-------------------------------------------------------------------\n",
       "Intercept   2.3741     3.0129    0.7880   0.4326   -3.6056   8.3538\n",
       "WCC         0.5426     0.2684    2.0213   0.0460    0.0098   1.0754\n",
       "CRP         1.1827     0.1014   11.6636   0.0000    0.9814   1.3839\n",
       "-----------------------------------------------------------------\n",
       "Omnibus:              0.113        Durbin-Watson:           1.936\n",
       "Prob(Omnibus):        0.945        Jarque-Bera (JB):        0.287\n",
       "Skew:                 0.029        Prob(JB):                0.866\n",
       "Kurtosis:             2.744        Condition No.:           96   \n",
       "=================================================================\n",
       "Notes:\n",
       "[1] Standard Errors assume that the covariance matrix of the\n",
       "errors is correctly specified.\n",
       "\"\"\""
      ]
     },
     "execution_count": 16,
     "metadata": {},
     "output_type": "execute_result"
    }
   ],
   "source": [
    "model = sm.OLS(y, X).fit()\n",
    "\n",
    "model.summary2()"
   ]
  },
  {
   "cell_type": "markdown",
   "id": "c1cdfa7c",
   "metadata": {},
   "source": [
    "### F-Statistic\n",
    "#### The F-statistic tests whether the model as a whole is statistically significant. With a F-statistic of 157.3 and an extremely small p-value (much smaller than 0.05), we can conclude that the model is highly significant. This indicates that the predictors WCC and CRP together explain a significant portion of the variation in Lipase."
   ]
  },
  {
   "cell_type": "markdown",
   "id": "42c2d8d6",
   "metadata": {},
   "source": [
    "### Comment on the Individual Coefficients and Their p-values:\n",
    "#### Intercept: \n",
    "#### Coefficient: 2.3741\n",
    "#### p-value: 0.4326\n",
    "#### The Intercept represents the expected value of Lipase when both WCC and CRP are equal to 0. However, its p-value of 0.4326 is greater than 0.05, which means the intercept is not statistically significant in this model.\n",
    "#### WCC:\n",
    "#### Coefficient: 0.5426\n",
    "#### p-value: 0.0460\n",
    "#### The WCC coefficient suggests that for every unit increase in WCC, Lipase is expected to increase by 0.5426, assuming CRP is held constant. Since the p-value is 0.0460, which is less than 0.05, WCC is a statistically significant predictor of Lipase.\n",
    "#### CRP:\n",
    "#### Coefficient: 1.1827\n",
    "#### p-value: 0.0000\n",
    "#### The CRP coefficient suggests that for every unit increase in CRP, Lipase is expected to increase by 1.1827, assuming WCC is held constant. The p-value for CRP is extremely small (0.0000), which means that CRP is a highly statistically significant predictor of Lipase."
   ]
  },
  {
   "cell_type": "markdown",
   "id": "1be77d77",
   "metadata": {},
   "source": [
    "### Comment on the R² and Adjusted R² Values\n",
    "#### R-squared (R²): 0.764\n",
    "#### Adjusted R-squared (Adj. R²): 0.759\n",
    "#### R-squared indicates the proportion of variance in Lipase that can be explained by the predictors WCC and CRP. An R² of 0.764 means that 76.4% of the variability in Lipase can be explained by WCC and CRP. This is a fairly high value, suggesting a good fit of the model.\n",
    "\n",
    "#### The Adjusted R-squared (0.759) takes into account the number of predictors in the model, and since it is close to the R² value, it suggests that the model is not overfitting, and the predictors are meaningful."
   ]
  },
  {
   "cell_type": "markdown",
   "id": "ef37c26f",
   "metadata": {},
   "source": []
  }
 ],
 "metadata": {
  "kernelspec": {
   "display_name": ".venv",
   "language": "python",
   "name": "python3"
  },
  "language_info": {
   "codemirror_mode": {
    "name": "ipython",
    "version": 3
   },
   "file_extension": ".py",
   "mimetype": "text/x-python",
   "name": "python",
   "nbconvert_exporter": "python",
   "pygments_lexer": "ipython3",
   "version": "3.13.1"
  }
 },
 "nbformat": 4,
 "nbformat_minor": 5
}
