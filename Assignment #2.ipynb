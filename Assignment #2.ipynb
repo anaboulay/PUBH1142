{
 "cells": [
  {
   "cell_type": "markdown",
   "metadata": {},
   "source": [
    "# Ana Boulay Assignment #2"
   ]
  },
  {
   "cell_type": "markdown",
   "metadata": {},
   "source": [
    "## Quiz Questions"
   ]
  },
  {
   "cell_type": "markdown",
   "metadata": {},
   "source": [
    "### Question #1: What is the difference between a spreadsheet and a database?"
   ]
  },
  {
   "cell_type": "markdown",
   "metadata": {},
   "source": [
    "#### * While there are many differences between spreadsheets and a database, the primary purpose is that a spreadsheet is used for calculations and small datasets where as a database is used to manage and manipulate large datasets."
   ]
  },
  {
   "cell_type": "markdown",
   "metadata": {},
   "source": [
    "### Question #2: What are the advantages and disadvantages of using a spreadsheet for health data management?"
   ]
  },
  {
   "cell_type": "markdown",
   "metadata": {},
   "source": [
    "#### * In health data management a spreadsheet isn't an ideal format for managing large and complex datasets due to the limits in spreadsheets. That being said, in a small dataset a spreadsheet can be very useful for fast analysis. "
   ]
  },
  {
   "cell_type": "markdown",
   "metadata": {},
   "source": [
    "### Question #3: What are the advantages and disadvantages of using a database for health data management?"
   ]
  },
  {
   "cell_type": "markdown",
   "metadata": {},
   "source": [
    "#### * Databases can be useful for managing large datasets in health data and they can maintain data integrity in addition to creating relationships between different data points. A disadvantage is that databases can take a while to plan and it is a long process but generally has a positive outcome. "
   ]
  },
  {
   "cell_type": "markdown",
   "metadata": {},
   "source": [
    "### Question #4: What are some examples of tasks that can be performed using a spreadsheet?"
   ]
  },
  {
   "cell_type": "markdown",
   "metadata": {},
   "source": [
    "#### * In a spreadsheet numerous tasks can occur, such as data entry, data manipulation, data analysis, and data visualization. "
   ]
  },
  {
   "cell_type": "markdown",
   "metadata": {},
   "source": [
    "### Question #5: What are some examples of tasks that can be performed using a database?"
   ]
  },
  {
   "cell_type": "markdown",
   "metadata": {},
   "source": [
    "#### * In a database filtering and sorting, storage and retrieval and data security can all occur. "
   ]
  },
  {
   "cell_type": "markdown",
   "metadata": {},
   "source": [
    "### Question #6: What are some examples of tasks that can be performed using both a spreadsheet and a database?"
   ]
  },
  {
   "cell_type": "markdown",
   "metadata": {},
   "source": [
    "#### * In a spreadsheet and database, data analysis and calculations can happen, in addition to visualizing data. "
   ]
  },
  {
   "cell_type": "markdown",
   "metadata": {},
   "source": [
    "### Question #7: What are some examples of tasks that can be performed using neither a spreadsheet nor a database?"
   ]
  },
  {
   "cell_type": "markdown",
   "metadata": {},
   "source": [
    "#### * Neither a spreadsheet nor a database can edit images and perform graphic designs, nor can it edit and produce videos or develop software. "
   ]
  },
  {
   "cell_type": "markdown",
   "metadata": {},
   "source": [
    "### Question #8: What are some examples of tasks that can be performed using a spreadsheet but not a database?"
   ]
  },
  {
   "cell_type": "markdown",
   "metadata": {},
   "source": [
    "#### * A spreadsheet can create a simple report whcih consists of a one page report with tables, charts, and graphics. Additionally, it can perform financial modeling and budget. "
   ]
  },
  {
   "cell_type": "markdown",
   "metadata": {},
   "source": [
    "### Question #9: What are some examples of tasks that can be performed using a database but not a spreadsheet?"
   ]
  },
  {
   "cell_type": "markdown",
   "metadata": {},
   "source": [
    "#### * Databases can handle large volumes of data, enforce data integrity and constraints, and manage complex relationships between data, among many other things."
   ]
  },
  {
   "cell_type": "markdown",
   "metadata": {},
   "source": [
    "### Question #10: What are some examples of tasks that can be performed using both a spreadsheet and a database?"
   ]
  },
  {
   "cell_type": "markdown",
   "metadata": {},
   "source": [
    "#### * In a spreadsheet and database, data analysis and calculations can happen, in addition to visualizing data. "
   ]
  }
 ],
 "metadata": {
  "language_info": {
   "name": "python"
  }
 },
 "nbformat": 4,
 "nbformat_minor": 2
}
