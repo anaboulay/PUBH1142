{
 "cells": [
  {
   "cell_type": "markdown",
   "id": "f7b06303",
   "metadata": {},
   "source": [
    "# Ana Boulay Assignment #3"
   ]
  },
  {
   "cell_type": "markdown",
   "id": "7f3102f9",
   "metadata": {},
   "source": [
    "## Quiz Questions"
   ]
  },
  {
   "cell_type": "markdown",
   "id": "c7044558",
   "metadata": {},
   "source": [
    "### Question #1: What is the primary goal of data anonymization?\n",
    "\n",
    "#### * The main goal of data anonymization is to protect an individual's privacy. Typically, this is done by removing identifiable information in certain datasets, ultimately making it difficult to track an individual based on their specific data."
   ]
  },
  {
   "cell_type": "markdown",
   "id": "284999e1",
   "metadata": {},
   "source": [
    "### Question #2: What is the Havasupai Tribe case about?\n",
    " #### * In the Havasupai Tribe case, researchers from ASU conducted a study on the tribe's prevalence of Type 2 diabetes. The researchers got consent to conduct this study and they gathered blood samples, ensuring the tribe that the samples would be used in looking into Type 2 diabetes. With the blood samples, the researchers also looked at genetic markers for other disorders but they did not gain consent to do so. As a result of this breach in consent, the Tribe sued ASU and ASU payed the Tribe $700,000. This situation opens up a discussion surrounding data collection and consent in research and health."
   ]
  },
  {
   "cell_type": "markdown",
   "id": "74ae4a32",
   "metadata": {},
   "source": [
    "### Question #3: What was the largest health data breach in history?\n",
    "   #### * The largest health data breach in history was in 2015 when Anthem Inc, a US health insurance company stated that they were the victim of a cyberattack. As a result of this attack, private information of 78.8 million people was gained by the hackers."
   ]
  },
  {
   "cell_type": "markdown",
   "id": "b4b1fc08",
   "metadata": {},
   "source": [
    "### Question #4: What is the pulse oximeter controversy about?\n",
    "   #### * The pulse oximeter controversy is about racial biases and inequity in health. The pulse oximeter which measures oxygen saturation in blood does not accurately represent blood oxygen levels in Black patients which can result in missing low blood oxygen levels in patients. This is a result of the systems being created using data from light-skinned patients and ultimately highlights the biases in medicine."
   ]
  },
  {
   "cell_type": "markdown",
   "id": "f4bae348",
   "metadata": {},
   "source": [
    "### Question #5: What is the role of an Institutional Review Board (IRB) in research?\n",
    "  #### * Institutional Review Boards are an ethics committee that monitors research that involves humans. An IRB must approve a study that involves humans before it can begin, specifically looking at consent and protecting patients. The IRB has a lot of responsibility as it ensure research is ethical and treating subjects well, and they have the authority to terminate a study if necessary."
   ]
  },
  {
   "cell_type": "markdown",
   "id": "ebe5d9b6",
   "metadata": {},
   "source": [
    "### Question #6: What is the difference between spreadsheet software and database software for health data management?\n",
    "   #### * Spreadsheets simply store data where as databases can organize the data and store more complex data about patients, medical history or treatments. In a database this data can be managed where as in a spreadsheet the data is simply just stated."
   ]
  },
  {
   "cell_type": "markdown",
   "id": "b91ccc32",
   "metadata": {},
   "source": [
    "### Question #7: What is a conflict of interest in public health research?\n",
    "  #### * A conflict of interest in public health research occurs when the entity conducting the data as another interest or motivator that can influence the research in some way. This could be a financial interest, personal or academic and it can influence how the research is conducted which ultimately would be unethical and potentially affect the outcome of the research."
   ]
  },
  {
   "cell_type": "markdown",
   "id": "634475d3",
   "metadata": {},
   "source": [
    "### Question #8: What is informed consent in the context of health data collection?\n",
    "   #### * In health data collection, informed consent is both a legal requirement and ethical. Informed consent not only ensures that people are aware of where their data is being stored and agree to collecting their data, but also that individuals are informed enough to make a decision about their participation in a study. With informed consent individuals will be aware of the risks and benefits of a study and who will have access to it."
   ]
  },
  {
   "cell_type": "markdown",
   "id": "96514a4d",
   "metadata": {},
   "source": [
    "### Question #9: What is data masking in the context of de-identification of health data?\n",
    " #### * Data masking allows for anonymity in a study or when research is conducted. Identifiable information of an individual is removed, for example a medical number is removed or a different name is given for the patient.\n",
    "   "
   ]
  },
  {
   "cell_type": "markdown",
   "id": "ccb53820",
   "metadata": {},
   "source": [
    "### Question #10: What is the principle of k-anonymity in the context of de-identification of health data?\n",
    "#### * K-Anonymity makes it difficult to find one specific individual because data is grouped in a way that has a least k records all with similar data points, for example weight.\n",
    "   "
   ]
  },
  {
   "cell_type": "markdown",
   "id": "4ed6226d",
   "metadata": {},
   "source": [
    "### Question #11: What is the main concern about conflicts of interest in public health research?\n",
    "  #### * The main concern about conflicts of interest in public health research is that the integrity of the research will be compromised.\n",
    "  "
   ]
  },
  {
   "cell_type": "markdown",
   "id": "47d11e72",
   "metadata": {},
   "source": [
    "### Question #12: What is the first step in managing conflicts of interest in public health research?\n",
    "#### * Transparency is the first step in managing conflicts of interest. This includes identifying and stating any conflicts of interest at the beginning of the research. \n",
    "   "
   ]
  },
  {
   "cell_type": "markdown",
   "id": "214bb90c",
   "metadata": {},
   "source": [
    "### Question #13: What is the role of independent oversight in managing conflicts of interest in public health research?\n",
    "#### * Independent oversight is another layer that can be implemented through review to ensure that conflicts of interest don't compromise the data.\n",
    "   "
   ]
  },
  {
   "cell_type": "markdown",
   "id": "4532b0e7",
   "metadata": {},
   "source": [
    "### Question #14: What is one strategy for mitigating conflicts of interest in public health research?\n",
    "#### * Public disclosure is one strategy for mitigating conflicts of interest in public health research. This includes disclosing a conflict of interest to the public so that viewers and readers ca determine the influence of the conflict of interest.\n",
    "   "
   ]
  },
  {
   "cell_type": "markdown",
   "id": "3a134288",
   "metadata": {},
   "source": [
    "### Question #15: What is the potential impact of not properly managing conflicts of interest in public health research?\n",
    "  #### * Not properly managing conflicts of interest in public health research could result in the research and outcome being threatened including the integrity of the research and trust surrounding public health research.\n",
    "   "
   ]
  },
  {
   "cell_type": "markdown",
   "id": "bb2ea3eb",
   "metadata": {},
   "source": []
  }
 ],
 "metadata": {
  "kernelspec": {
   "display_name": ".venv",
   "language": "python",
   "name": "python3"
  },
  "language_info": {
   "name": "python",
   "version": "3.13.1"
  }
 },
 "nbformat": 4,
 "nbformat_minor": 5
}
