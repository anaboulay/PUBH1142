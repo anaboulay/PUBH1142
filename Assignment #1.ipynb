{
 "cells": [
  {
   "cell_type": "markdown",
   "metadata": {},
   "source": [
    "# Ana Boulay Assignment #1"
   ]
  },
  {
   "cell_type": "markdown",
   "metadata": {},
   "source": [
    "## Quiz Questions"
   ]
  },
  {
   "cell_type": "markdown",
   "metadata": {},
   "source": [
    "### Question #1: What is the primary goal of data anonymization?"
   ]
  },
  {
   "cell_type": "markdown",
   "metadata": {},
   "source": [
    "#### * The main goal of data anonymization is to protect an individual's privacy. Typically, this is done by removing identifiable information in certain datasets, ultimately making it difficult to track an individual based on their specific data. "
   ]
  },
  {
   "cell_type": "markdown",
   "metadata": {},
   "source": [
    "### Question #2: What is the Havasupai Tribe case about?"
   ]
  },
  {
   "cell_type": "markdown",
   "metadata": {},
   "source": [
    "#### * In the Havasupai Tribe case, researchers from ASU conducted a study on the tribe's prevalence of Type 2 diabetes. The researchers got consent to conduct this study and they gathered blood samples, ensuring the tribe that the samples would be used in looking into Type 2 diabetes. With the blood samples, the researchers also looked at genetic markers for other disorders but they did not gain consent to do so. As a result of this breach in consent, the Tribe sued ASU and ASU payed the Tribe $700,000. This situation opens up a discussion surrounding data collection and consent in research and health. "
   ]
  },
  {
   "cell_type": "markdown",
   "metadata": {},
   "source": [
    "### Question #3: What was the largest health data breach in history?"
   ]
  },
  {
   "cell_type": "markdown",
   "metadata": {},
   "source": [
    "#### * The largest health data breach in history was in 2015 when Anthem Inc, a US health insurance company stated that they were the victim of a cyberattack. As a result of this attack, private information of 78.8 million people was gained by the hackers. "
   ]
  },
  {
   "cell_type": "markdown",
   "metadata": {},
   "source": [
    "### Question #4: What is the pulse oximeter controversy about?"
   ]
  },
  {
   "cell_type": "markdown",
   "metadata": {},
   "source": [
    "#### * The pulse oximeter controversy is about racial biases and inequity in health. The pulse oximeter which measures oxygen saturation in blood does not accurately represent blood oxygen levels in Black patients which can result in missing low blood oxygen levels in patients. This is a result of the systems being created using data from light-skinned patients and ultimately highlights the biases in medicine. "
   ]
  },
  {
   "cell_type": "markdown",
   "metadata": {},
   "source": [
    "### Question #5: What is the role of an Institutional Review Board (IRB) in research?"
   ]
  },
  {
   "cell_type": "markdown",
   "metadata": {},
   "source": [
    "#### * Institutional Review Boards are an ethics committee that monitors research that involves humans. An IRB must approve a study that involves humans before it can begin, specifically looking at consent and protecting patients. The IRB has a lot of responsibility as it ensure research is ethical and treating subjects well, and they have the authority to terminate a study if necessary. "
   ]
  },
  {
   "cell_type": "markdown",
   "metadata": {},
   "source": [
    "### Question #6: What is the difference between spreadsheet software and database software for health data management?"
   ]
  },
  {
   "cell_type": "markdown",
   "metadata": {},
   "source": [
    "#### * Spreadsheets simply store data where as databases can organize the data and store more complex data about patients, medical history or treatments. In a database this data can be managed where as in a spreadsheet the data is simply just stated. "
   ]
  },
  {
   "cell_type": "markdown",
   "metadata": {},
   "source": [
    "### Question #7: What is a conflict of interest in public health research?"
   ]
  },
  {
   "cell_type": "markdown",
   "metadata": {},
   "source": [
    "#### * A conflict of interest in public health research occurs when the entity conducting the data as another interest or motivator that can influence the research in some way. This could be a financial interest, personal or academic and it can influence how the research is conducted which ultimately would be unethial and potentially affect the outcome of the research. "
   ]
  },
  {
   "cell_type": "markdown",
   "metadata": {},
   "source": [
    "### Question #8: What is informed consent in the context of health data collection?"
   ]
  },
  {
   "cell_type": "markdown",
   "metadata": {},
   "source": [
    "#### * In health data collection, informed consent is both a legal requirement and ethical. Informed consent not only ensures that people are aware of where their data is being stored and agree to collecting their data, but also that individuals are informed enough to make a decision about their participation in a study. With informed consent individuals will be aware of the risks and benefits of a study and who will have access to it. "
   ]
  },
  {
   "cell_type": "markdown",
   "metadata": {},
   "source": [
    "### Question #9: What is data masking in the context of de-identification of health data?"
   ]
  },
  {
   "cell_type": "markdown",
   "metadata": {},
   "source": [
    "#### * Data masking allows for anonymity in a study or when research is conducted. Identifiable information of an individual is removed, for example a medical number is removed or a different name is given for the patient. "
   ]
  },
  {
   "cell_type": "markdown",
   "metadata": {},
   "source": [
    "### Question #10: What is the principle of k-anonymity in the context of de-identification of health data?"
   ]
  },
  {
   "cell_type": "markdown",
   "metadata": {},
   "source": [
    "#### * K-Anonymity makes it difficult to find one specific individual because data is grouped in a way that has a least k records all with similar data points, for example weight. "
   ]
  },
  {
   "cell_type": "markdown",
   "metadata": {},
   "source": [
    "### Question #11: What is the main concern about conflicts of interest in public health research?"
   ]
  },
  {
   "cell_type": "markdown",
   "metadata": {},
   "source": [
    "#### * The main concern about conflicts of interest in public health research is that the integrity of the research will be compromised."
   ]
  },
  {
   "cell_type": "markdown",
   "metadata": {},
   "source": [
    "### Question #12: What is the first step in managing conflicts of interest in public health research?"
   ]
  },
  {
   "cell_type": "markdown",
   "metadata": {},
   "source": [
    "#### * Transparency is the first step in managing conflicts of interest. This includes identifying and stating any conflicts of interest at the beginning of the research. "
   ]
  },
  {
   "cell_type": "markdown",
   "metadata": {},
   "source": [
    "### Question #13: What is the role of independent oversight in managing conflicts of interest in public health research?"
   ]
  },
  {
   "cell_type": "markdown",
   "metadata": {},
   "source": [
    "#### * Independent oversight is another layer that can be implemented through review to ensure that conflicts of interest don't compromise the data."
   ]
  },
  {
   "cell_type": "markdown",
   "metadata": {},
   "source": [
    "### Question #14: What is one strategy for mitigating conflicts of interest in public health research?"
   ]
  },
  {
   "cell_type": "markdown",
   "metadata": {},
   "source": [
    "#### * Public disclosure is one strategy for mitigating conflicts of interest in public health research. This includes disclosing a conflict of interest to the public so that viewers and readers ca determine the influence of the conflict of interest. "
   ]
  },
  {
   "cell_type": "markdown",
   "metadata": {},
   "source": [
    "### Question #15: What is the potential impact of not properly managing conflicts of interest in public health research?"
   ]
  },
  {
   "cell_type": "markdown",
   "metadata": {},
   "source": [
    "#### * Not properly managing conflicts of interest in public health research could result in the research and outcome being threatened including the integrity of the research and trust surrounding public health research. "
   ]
  }
 ],
 "metadata": {
  "language_info": {
   "name": "python"
  }
 },
 "nbformat": 4,
 "nbformat_minor": 2
}
