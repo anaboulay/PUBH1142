{
 "cells": [
  {
   "cell_type": "markdown",
   "metadata": {},
   "source": [
    "## Maternal Death Rates"
   ]
  },
  {
   "cell_type": "markdown",
   "metadata": {},
   "source": [
    "### Importing Packages"
   ]
  },
  {
   "cell_type": "code",
   "execution_count": 1,
   "metadata": {},
   "outputs": [],
   "source": [
    "import pandas as pd\n",
    "from scipy import stats"
   ]
  },
  {
   "cell_type": "code",
   "execution_count": 3,
   "metadata": {},
   "outputs": [],
   "source": [
    "# Import csv file into a pandas dataframe\n",
    "df = pd.read_csv('maternal data #1.csv')"
   ]
  },
  {
   "cell_type": "code",
   "execution_count": 4,
   "metadata": {},
   "outputs": [
    {
     "name": "stdout",
     "output_type": "stream",
     "text": [
      "(660, 12)\n"
     ]
    }
   ],
   "source": [
    "# Verify the size of df\n",
    "print(df.shape)"
   ]
  },
  {
   "cell_type": "code",
   "execution_count": 5,
   "metadata": {},
   "outputs": [
    {
     "name": "stdout",
     "output_type": "stream",
     "text": [
      "Index(['Data As Of', 'Jurisdiction', 'Group', 'Subgroup', 'Year of Death',\n",
      "       'Month of Death', 'Time Period', 'Month Ending Date', 'Maternal Deaths',\n",
      "       'Live Births', 'Maternal Mortality Rate', 'Footnote'],\n",
      "      dtype='object')\n"
     ]
    }
   ],
   "source": [
    "# Show the column headers\n",
    "print(df.columns)"
   ]
  },
  {
   "cell_type": "code",
   "execution_count": 8,
   "metadata": {},
   "outputs": [
    {
     "data": {
      "application/vnd.microsoft.datawrangler.viewer.v0+json": {
       "columns": [
        {
         "name": "index",
         "rawType": "int64",
         "type": "integer"
        },
        {
         "name": "Data As Of",
         "rawType": "object",
         "type": "string"
        },
        {
         "name": "Jurisdiction",
         "rawType": "object",
         "type": "string"
        },
        {
         "name": "Group",
         "rawType": "object",
         "type": "string"
        },
        {
         "name": "Subgroup",
         "rawType": "object",
         "type": "string"
        },
        {
         "name": "Year of Death",
         "rawType": "int64",
         "type": "integer"
        },
        {
         "name": "Month of Death",
         "rawType": "int64",
         "type": "integer"
        },
        {
         "name": "Time Period",
         "rawType": "object",
         "type": "string"
        },
        {
         "name": "Month Ending Date",
         "rawType": "object",
         "type": "string"
        },
        {
         "name": "Maternal Deaths",
         "rawType": "object",
         "type": "string"
        },
        {
         "name": "Live Births",
         "rawType": "object",
         "type": "string"
        },
        {
         "name": "Maternal Mortality Rate",
         "rawType": "float64",
         "type": "float"
        },
        {
         "name": "Footnote",
         "rawType": "object",
         "type": "unknown"
        }
       ],
       "conversionMethod": "pd.DataFrame",
       "ref": "a681342d-6302-4551-b99e-744d0ce4c01a",
       "rows": [
        [
         "0",
         "10/6/24",
         "United States",
         "Total",
         "Total",
         "2019",
         "1",
         "12 month-ending",
         "1/31/19",
         "660",
         "3,787,776",
         "17.4",
         null
        ],
        [
         "1",
         "10/6/24",
         "United States",
         "Total",
         "Total",
         "2019",
         "2",
         "12 month-ending",
         "2/28/19",
         "653",
         "3,783,489",
         "17.3",
         null
        ],
        [
         "2",
         "10/6/24",
         "United States",
         "Total",
         "Total",
         "2019",
         "3",
         "12 month-ending",
         "3/31/19",
         "657",
         "3,771,682",
         "17.4",
         null
        ],
        [
         "3",
         "10/6/24",
         "United States",
         "Total",
         "Total",
         "2019",
         "4",
         "12 month-ending",
         "4/30/19",
         "668",
         "3,772,235",
         "17.7",
         null
        ],
        [
         "4",
         "10/6/24",
         "United States",
         "Total",
         "Total",
         "2019",
         "5",
         "12 month-ending",
         "5/31/19",
         "706",
         "3,767,999",
         "18.7",
         null
        ]
       ],
       "shape": {
        "columns": 12,
        "rows": 5
       }
      },
      "text/html": [
       "<div>\n",
       "<style scoped>\n",
       "    .dataframe tbody tr th:only-of-type {\n",
       "        vertical-align: middle;\n",
       "    }\n",
       "\n",
       "    .dataframe tbody tr th {\n",
       "        vertical-align: top;\n",
       "    }\n",
       "\n",
       "    .dataframe thead th {\n",
       "        text-align: right;\n",
       "    }\n",
       "</style>\n",
       "<table border=\"1\" class=\"dataframe\">\n",
       "  <thead>\n",
       "    <tr style=\"text-align: right;\">\n",
       "      <th></th>\n",
       "      <th>Data As Of</th>\n",
       "      <th>Jurisdiction</th>\n",
       "      <th>Group</th>\n",
       "      <th>Subgroup</th>\n",
       "      <th>Year of Death</th>\n",
       "      <th>Month of Death</th>\n",
       "      <th>Time Period</th>\n",
       "      <th>Month Ending Date</th>\n",
       "      <th>Maternal Deaths</th>\n",
       "      <th>Live Births</th>\n",
       "      <th>Maternal Mortality Rate</th>\n",
       "      <th>Footnote</th>\n",
       "    </tr>\n",
       "  </thead>\n",
       "  <tbody>\n",
       "    <tr>\n",
       "      <th>0</th>\n",
       "      <td>10/6/24</td>\n",
       "      <td>United States</td>\n",
       "      <td>Total</td>\n",
       "      <td>Total</td>\n",
       "      <td>2019</td>\n",
       "      <td>1</td>\n",
       "      <td>12 month-ending</td>\n",
       "      <td>1/31/19</td>\n",
       "      <td>660</td>\n",
       "      <td>3,787,776</td>\n",
       "      <td>17.4</td>\n",
       "      <td>NaN</td>\n",
       "    </tr>\n",
       "    <tr>\n",
       "      <th>1</th>\n",
       "      <td>10/6/24</td>\n",
       "      <td>United States</td>\n",
       "      <td>Total</td>\n",
       "      <td>Total</td>\n",
       "      <td>2019</td>\n",
       "      <td>2</td>\n",
       "      <td>12 month-ending</td>\n",
       "      <td>2/28/19</td>\n",
       "      <td>653</td>\n",
       "      <td>3,783,489</td>\n",
       "      <td>17.3</td>\n",
       "      <td>NaN</td>\n",
       "    </tr>\n",
       "    <tr>\n",
       "      <th>2</th>\n",
       "      <td>10/6/24</td>\n",
       "      <td>United States</td>\n",
       "      <td>Total</td>\n",
       "      <td>Total</td>\n",
       "      <td>2019</td>\n",
       "      <td>3</td>\n",
       "      <td>12 month-ending</td>\n",
       "      <td>3/31/19</td>\n",
       "      <td>657</td>\n",
       "      <td>3,771,682</td>\n",
       "      <td>17.4</td>\n",
       "      <td>NaN</td>\n",
       "    </tr>\n",
       "    <tr>\n",
       "      <th>3</th>\n",
       "      <td>10/6/24</td>\n",
       "      <td>United States</td>\n",
       "      <td>Total</td>\n",
       "      <td>Total</td>\n",
       "      <td>2019</td>\n",
       "      <td>4</td>\n",
       "      <td>12 month-ending</td>\n",
       "      <td>4/30/19</td>\n",
       "      <td>668</td>\n",
       "      <td>3,772,235</td>\n",
       "      <td>17.7</td>\n",
       "      <td>NaN</td>\n",
       "    </tr>\n",
       "    <tr>\n",
       "      <th>4</th>\n",
       "      <td>10/6/24</td>\n",
       "      <td>United States</td>\n",
       "      <td>Total</td>\n",
       "      <td>Total</td>\n",
       "      <td>2019</td>\n",
       "      <td>5</td>\n",
       "      <td>12 month-ending</td>\n",
       "      <td>5/31/19</td>\n",
       "      <td>706</td>\n",
       "      <td>3,767,999</td>\n",
       "      <td>18.7</td>\n",
       "      <td>NaN</td>\n",
       "    </tr>\n",
       "  </tbody>\n",
       "</table>\n",
       "</div>"
      ],
      "text/plain": [
       "  Data As Of   Jurisdiction  Group Subgroup  Year of Death  Month of Death  \\\n",
       "0    10/6/24  United States  Total    Total           2019               1   \n",
       "1    10/6/24  United States  Total    Total           2019               2   \n",
       "2    10/6/24  United States  Total    Total           2019               3   \n",
       "3    10/6/24  United States  Total    Total           2019               4   \n",
       "4    10/6/24  United States  Total    Total           2019               5   \n",
       "\n",
       "       Time Period Month Ending Date Maternal Deaths Live Births  \\\n",
       "0  12 month-ending           1/31/19             660   3,787,776   \n",
       "1  12 month-ending           2/28/19             653   3,783,489   \n",
       "2  12 month-ending           3/31/19             657   3,771,682   \n",
       "3  12 month-ending           4/30/19             668   3,772,235   \n",
       "4  12 month-ending           5/31/19             706   3,767,999   \n",
       "\n",
       "   Maternal Mortality Rate Footnote  \n",
       "0                     17.4      NaN  \n",
       "1                     17.3      NaN  \n",
       "2                     17.4      NaN  \n",
       "3                     17.7      NaN  \n",
       "4                     18.7      NaN  "
      ]
     },
     "execution_count": 8,
     "metadata": {},
     "output_type": "execute_result"
    }
   ],
   "source": [
    "# Show the first 5 rows of the dataframe\n",
    "df.head()"
   ]
  },
  {
   "cell_type": "code",
   "execution_count": 9,
   "metadata": {},
   "outputs": [
    {
     "name": "stdout",
     "output_type": "stream",
     "text": [
      "<class 'pandas.core.frame.DataFrame'>\n",
      "RangeIndex: 660 entries, 0 to 659\n",
      "Data columns (total 12 columns):\n",
      " #   Column                   Non-Null Count  Dtype  \n",
      "---  ------                   --------------  -----  \n",
      " 0   Data As Of               660 non-null    object \n",
      " 1   Jurisdiction             660 non-null    object \n",
      " 2   Group                    660 non-null    object \n",
      " 3   Subgroup                 660 non-null    object \n",
      " 4   Year of Death            660 non-null    int64  \n",
      " 5   Month of Death           660 non-null    int64  \n",
      " 6   Time Period              660 non-null    object \n",
      " 7   Month Ending Date        660 non-null    object \n",
      " 8   Maternal Deaths          589 non-null    object \n",
      " 9   Live Births              660 non-null    object \n",
      " 10  Maternal Mortality Rate  544 non-null    float64\n",
      " 11  Footnote                 116 non-null    object \n",
      "dtypes: float64(1), int64(2), object(9)\n",
      "memory usage: 62.0+ KB\n"
     ]
    }
   ],
   "source": [
    "# Show info about df\n",
    "df.info()"
   ]
  },
  {
   "cell_type": "markdown",
   "metadata": {},
   "source": [
    "## Categorical Data"
   ]
  },
  {
   "cell_type": "code",
   "execution_count": 10,
   "metadata": {},
   "outputs": [
    {
     "data": {
      "text/plain": [
       "0    Total\n",
       "1    Total\n",
       "2    Total\n",
       "3    Total\n",
       "4    Total\n",
       "5    Total\n",
       "6    Total\n",
       "7    Total\n",
       "8    Total\n",
       "9    Total\n",
       "Name: Group, dtype: object"
      ]
     },
     "execution_count": 10,
     "metadata": {},
     "output_type": "execute_result"
    }
   ],
   "source": [
    "# Show the first 10 rows of the \"Group\" column\n",
    "df['Group'].head(10)"
   ]
  },
  {
   "cell_type": "code",
   "execution_count": 12,
   "metadata": {},
   "outputs": [
    {
     "data": {
      "text/plain": [
       "array(['Total', 'Age', 'Race and Hispanic origin'], dtype=object)"
      ]
     },
     "execution_count": 12,
     "metadata": {},
     "output_type": "execute_result"
    }
   ],
   "source": [
    "# Calculate the distinct values of the \"Group\" column\n",
    "df['Group'].unique()"
   ]
  },
  {
   "cell_type": "code",
   "execution_count": 13,
   "metadata": {},
   "outputs": [
    {
     "data": {
      "text/plain": [
       "Group\n",
       "Race and Hispanic origin    396\n",
       "Age                         198\n",
       "Total                        66\n",
       "Name: count, dtype: int64"
      ]
     },
     "execution_count": 13,
     "metadata": {},
     "output_type": "execute_result"
    }
   ],
   "source": [
    "# Calculate the frequency of each category in the \"Group\" column\n",
    "df['Group'].value_counts()"
   ]
  },
  {
   "cell_type": "code",
   "execution_count": 14,
   "metadata": {},
   "outputs": [
    {
     "data": {
      "text/plain": [
       "Group\n",
       "Race and Hispanic origin    0.6\n",
       "Age                         0.3\n",
       "Total                       0.1\n",
       "Name: proportion, dtype: float64"
      ]
     },
     "execution_count": 14,
     "metadata": {},
     "output_type": "execute_result"
    }
   ],
   "source": [
    "# Calcualate the proportions of each category in the \"Group\" column\n",
    "df['Group'].value_counts(normalize=True)"
   ]
  },
  {
   "cell_type": "code",
   "execution_count": 15,
   "metadata": {},
   "outputs": [
    {
     "data": {
      "text/plain": [
       "Subgroup\n",
       "Total                                                      66\n",
       "Under 25 years                                             66\n",
       "25-39 years                                                66\n",
       "40 years and over                                          66\n",
       "Hispanic                                                   66\n",
       "American Indian or Alaska Native, Non-Hispanic             66\n",
       "Asian, Non-Hispanic                                        66\n",
       "Black, Non-Hispanic                                        66\n",
       "Native Hawaiian or Other Pacific Islander, Non-Hispanic    66\n",
       "White, Non-Hispanic                                        66\n",
       "Name: count, dtype: int64"
      ]
     },
     "execution_count": 15,
     "metadata": {},
     "output_type": "execute_result"
    }
   ],
   "source": [
    "# Calcualte the frequency of each category in the \"Subgroup\" column\n",
    "df.Subgroup.value_counts()"
   ]
  },
  {
   "cell_type": "code",
   "execution_count": 16,
   "metadata": {},
   "outputs": [
    {
     "data": {
      "text/plain": [
       "Subgroup\n",
       "Total                                                      10.0\n",
       "Under 25 years                                             10.0\n",
       "25-39 years                                                10.0\n",
       "40 years and over                                          10.0\n",
       "Hispanic                                                   10.0\n",
       "American Indian or Alaska Native, Non-Hispanic             10.0\n",
       "Asian, Non-Hispanic                                        10.0\n",
       "Black, Non-Hispanic                                        10.0\n",
       "Native Hawaiian or Other Pacific Islander, Non-Hispanic    10.0\n",
       "White, Non-Hispanic                                        10.0\n",
       "Name: proportion, dtype: float64"
      ]
     },
     "execution_count": 16,
     "metadata": {},
     "output_type": "execute_result"
    }
   ],
   "source": [
    "# Calculate the pecentage of each category in the \"Subgroup\" column\n",
    "df.Subgroup.value_counts(normalize=True) * 100"
   ]
  },
  {
   "cell_type": "code",
   "execution_count": 17,
   "metadata": {},
   "outputs": [
    {
     "data": {
      "application/vnd.microsoft.datawrangler.viewer.v0+json": {
       "columns": [
        {
         "name": "Group",
         "rawType": "object",
         "type": "string"
        },
        {
         "name": "25-39 years",
         "rawType": "int64",
         "type": "integer"
        },
        {
         "name": "40 years and over",
         "rawType": "int64",
         "type": "integer"
        },
        {
         "name": "American Indian or Alaska Native, Non-Hispanic",
         "rawType": "int64",
         "type": "integer"
        },
        {
         "name": "Asian, Non-Hispanic",
         "rawType": "int64",
         "type": "integer"
        },
        {
         "name": "Black, Non-Hispanic",
         "rawType": "int64",
         "type": "integer"
        },
        {
         "name": "Hispanic",
         "rawType": "int64",
         "type": "integer"
        },
        {
         "name": "Native Hawaiian or Other Pacific Islander, Non-Hispanic",
         "rawType": "int64",
         "type": "integer"
        },
        {
         "name": "Total",
         "rawType": "int64",
         "type": "integer"
        },
        {
         "name": "Under 25 years",
         "rawType": "int64",
         "type": "integer"
        },
        {
         "name": "White, Non-Hispanic",
         "rawType": "int64",
         "type": "integer"
        }
       ],
       "conversionMethod": "pd.DataFrame",
       "ref": "7ea02c30-57d7-4122-b208-e67d2abc02ee",
       "rows": [
        [
         "Age",
         "66",
         "66",
         "0",
         "0",
         "0",
         "0",
         "0",
         "0",
         "66",
         "0"
        ],
        [
         "Race and Hispanic origin",
         "0",
         "0",
         "66",
         "66",
         "66",
         "66",
         "66",
         "0",
         "0",
         "66"
        ],
        [
         "Total",
         "0",
         "0",
         "0",
         "0",
         "0",
         "0",
         "0",
         "66",
         "0",
         "0"
        ]
       ],
       "shape": {
        "columns": 10,
        "rows": 3
       }
      },
      "text/html": [
       "<div>\n",
       "<style scoped>\n",
       "    .dataframe tbody tr th:only-of-type {\n",
       "        vertical-align: middle;\n",
       "    }\n",
       "\n",
       "    .dataframe tbody tr th {\n",
       "        vertical-align: top;\n",
       "    }\n",
       "\n",
       "    .dataframe thead th {\n",
       "        text-align: right;\n",
       "    }\n",
       "</style>\n",
       "<table border=\"1\" class=\"dataframe\">\n",
       "  <thead>\n",
       "    <tr style=\"text-align: right;\">\n",
       "      <th>Subgroup</th>\n",
       "      <th>25-39 years</th>\n",
       "      <th>40 years and over</th>\n",
       "      <th>American Indian or Alaska Native, Non-Hispanic</th>\n",
       "      <th>Asian, Non-Hispanic</th>\n",
       "      <th>Black, Non-Hispanic</th>\n",
       "      <th>Hispanic</th>\n",
       "      <th>Native Hawaiian or Other Pacific Islander, Non-Hispanic</th>\n",
       "      <th>Total</th>\n",
       "      <th>Under 25 years</th>\n",
       "      <th>White, Non-Hispanic</th>\n",
       "    </tr>\n",
       "    <tr>\n",
       "      <th>Group</th>\n",
       "      <th></th>\n",
       "      <th></th>\n",
       "      <th></th>\n",
       "      <th></th>\n",
       "      <th></th>\n",
       "      <th></th>\n",
       "      <th></th>\n",
       "      <th></th>\n",
       "      <th></th>\n",
       "      <th></th>\n",
       "    </tr>\n",
       "  </thead>\n",
       "  <tbody>\n",
       "    <tr>\n",
       "      <th>Age</th>\n",
       "      <td>66</td>\n",
       "      <td>66</td>\n",
       "      <td>0</td>\n",
       "      <td>0</td>\n",
       "      <td>0</td>\n",
       "      <td>0</td>\n",
       "      <td>0</td>\n",
       "      <td>0</td>\n",
       "      <td>66</td>\n",
       "      <td>0</td>\n",
       "    </tr>\n",
       "    <tr>\n",
       "      <th>Race and Hispanic origin</th>\n",
       "      <td>0</td>\n",
       "      <td>0</td>\n",
       "      <td>66</td>\n",
       "      <td>66</td>\n",
       "      <td>66</td>\n",
       "      <td>66</td>\n",
       "      <td>66</td>\n",
       "      <td>0</td>\n",
       "      <td>0</td>\n",
       "      <td>66</td>\n",
       "    </tr>\n",
       "    <tr>\n",
       "      <th>Total</th>\n",
       "      <td>0</td>\n",
       "      <td>0</td>\n",
       "      <td>0</td>\n",
       "      <td>0</td>\n",
       "      <td>0</td>\n",
       "      <td>0</td>\n",
       "      <td>0</td>\n",
       "      <td>66</td>\n",
       "      <td>0</td>\n",
       "      <td>0</td>\n",
       "    </tr>\n",
       "  </tbody>\n",
       "</table>\n",
       "</div>"
      ],
      "text/plain": [
       "Subgroup                  25-39 years  40 years and over  \\\n",
       "Group                                                      \n",
       "Age                                66                 66   \n",
       "Race and Hispanic origin            0                  0   \n",
       "Total                               0                  0   \n",
       "\n",
       "Subgroup                  American Indian or Alaska Native, Non-Hispanic  \\\n",
       "Group                                                                      \n",
       "Age                                                                    0   \n",
       "Race and Hispanic origin                                              66   \n",
       "Total                                                                  0   \n",
       "\n",
       "Subgroup                  Asian, Non-Hispanic  Black, Non-Hispanic  Hispanic  \\\n",
       "Group                                                                          \n",
       "Age                                         0                    0         0   \n",
       "Race and Hispanic origin                   66                   66        66   \n",
       "Total                                       0                    0         0   \n",
       "\n",
       "Subgroup                  Native Hawaiian or Other Pacific Islander, Non-Hispanic  \\\n",
       "Group                                                                               \n",
       "Age                                                                       0         \n",
       "Race and Hispanic origin                                                 66         \n",
       "Total                                                                     0         \n",
       "\n",
       "Subgroup                  Total  Under 25 years  White, Non-Hispanic  \n",
       "Group                                                                 \n",
       "Age                           0              66                    0  \n",
       "Race and Hispanic origin      0               0                   66  \n",
       "Total                        66               0                    0  "
      ]
     },
     "execution_count": 17,
     "metadata": {},
     "output_type": "execute_result"
    }
   ],
   "source": [
    "# Create a cross-tabulation of the \"Group\" and \"Subgroup\" columns\n",
    "pd.crosstab(df.Group, df.Subgroup)"
   ]
  },
  {
   "cell_type": "markdown",
   "metadata": {},
   "source": [
    "## Comparative numerical analysis"
   ]
  },
  {
   "cell_type": "code",
   "execution_count": 19,
   "metadata": {},
   "outputs": [
    {
     "data": {
      "text/plain": [
       "Subgroup\n",
       "25-39 years                                                22.015152\n",
       "40 years and over                                          92.350000\n",
       "American Indian or Alaska Native, Non-Hispanic             95.728571\n",
       "Asian, Non-Hispanic                                        13.721212\n",
       "Black, Non-Hispanic                                        52.360606\n",
       "Hispanic                                                   17.003030\n",
       "Native Hawaiian or Other Pacific Islander, Non-Hispanic     0.000000\n",
       "Total                                                      22.974242\n",
       "Under 25 years                                             14.563636\n",
       "White, Non-Hispanic                                        18.974242\n",
       "Name: Maternal Mortality Rate, dtype: float64"
      ]
     },
     "execution_count": 19,
     "metadata": {},
     "output_type": "execute_result"
    }
   ],
   "source": [
    "# Calculate the mean of the \"Maternal Mortality Rate\" column for each of the \"Subgroup\" categories\n",
    "df.groupby('Subgroup')['Maternal Mortality Rate'].mean()"
   ]
  },
  {
   "cell_type": "markdown",
   "metadata": {},
   "source": []
  },
  {
   "cell_type": "markdown",
   "metadata": {},
   "source": [
    "## Numerical Data Analysis"
   ]
  },
  {
   "cell_type": "code",
   "execution_count": 22,
   "metadata": {},
   "outputs": [
    {
     "data": {
      "text/plain": [
       "np.float64(33.27518382352941)"
      ]
     },
     "execution_count": 22,
     "metadata": {},
     "output_type": "execute_result"
    }
   ],
   "source": [
    "# Calculate the mean of the \"Maternal Mortality Rate\" column\n",
    "df['Maternal Mortality Rate'].mean()"
   ]
  },
  {
   "cell_type": "code",
   "execution_count": 24,
   "metadata": {},
   "outputs": [
    {
     "data": {
      "text/plain": [
       "np.float64(29.2671776694006)"
      ]
     },
     "execution_count": 24,
     "metadata": {},
     "output_type": "execute_result"
    }
   ],
   "source": [
    "# Calculate the sample standard deviation of the \"Maternal Mortality Rate\" column\n",
    "df['Maternal Mortality Rate'].std()"
   ]
  },
  {
   "cell_type": "code",
   "execution_count": 25,
   "metadata": {},
   "outputs": [
    {
     "data": {
      "text/plain": [
       "count    544.000000\n",
       "mean      33.275184\n",
       "std       29.267178\n",
       "min        0.000000\n",
       "25%       14.900000\n",
       "50%       19.800000\n",
       "75%       42.675000\n",
       "max      141.900000\n",
       "Name: Maternal Mortality Rate, dtype: float64"
      ]
     },
     "execution_count": 25,
     "metadata": {},
     "output_type": "execute_result"
    }
   ],
   "source": [
    "# Describe the summary statistics of the \"Maternal Mortality Rate\" column\n",
    "df['Maternal Mortality Rate'].describe()"
   ]
  },
  {
   "cell_type": "code",
   "execution_count": 26,
   "metadata": {},
   "outputs": [
    {
     "data": {
      "application/vnd.microsoft.datawrangler.viewer.v0+json": {
       "columns": [
        {
         "name": "Subgroup",
         "rawType": "object",
         "type": "string"
        },
        {
         "name": "count",
         "rawType": "float64",
         "type": "float"
        },
        {
         "name": "mean",
         "rawType": "float64",
         "type": "float"
        },
        {
         "name": "std",
         "rawType": "float64",
         "type": "float"
        },
        {
         "name": "min",
         "rawType": "float64",
         "type": "float"
        },
        {
         "name": "25%",
         "rawType": "float64",
         "type": "float"
        },
        {
         "name": "50%",
         "rawType": "float64",
         "type": "float"
        },
        {
         "name": "75%",
         "rawType": "float64",
         "type": "float"
        },
        {
         "name": "max",
         "rawType": "float64",
         "type": "float"
        }
       ],
       "conversionMethod": "pd.DataFrame",
       "ref": "d4b2e173-93e9-45ce-bc8e-5e5efbe99639",
       "rows": [
        [
         "25-39 years",
         "66.0",
         "22.015151515151516",
         "4.55551204330424",
         "16.4",
         "18.7",
         "20.200000000000003",
         "23.925",
         "32.2"
        ],
        [
         "40 years and over",
         "66.0",
         "92.35000000000001",
         "26.3888161042631",
         "56.3",
         "72.5",
         "79.35",
         "119.525",
         "141.9"
        ],
        [
         "American Indian or Alaska Native, Non-Hispanic",
         "14.0",
         "95.72857142857141",
         "10.758211788170046",
         "77.6",
         "92.025",
         "94.3",
         "100.0",
         "118.7"
        ],
        [
         "Asian, Non-Hispanic",
         "66.0",
         "13.72121212121212",
         "2.6594687237818553",
         "9.1",
         "11.925",
         "13.350000000000001",
         "15.1",
         "19.8"
        ],
        [
         "Black, Non-Hispanic",
         "66.0",
         "52.36060606060606",
         "9.240594033317235",
         "38.3",
         "47.324999999999996",
         "50.25",
         "57.5",
         "72.7"
        ],
        [
         "Hispanic",
         "66.0",
         "17.003030303030304",
         "5.489962020240484",
         "10.1",
         "13.125",
         "14.95",
         "20.9",
         "28.5"
        ],
        [
         "Native Hawaiian or Other Pacific Islander, Non-Hispanic",
         "2.0",
         "0.0",
         "0.0",
         "0.0",
         "0.0",
         "0.0",
         "0.0",
         "0.0"
        ],
        [
         "Total",
         "66.0",
         "22.974242424242423",
         "4.906645747776428",
         "17.3",
         "19.225",
         "20.8",
         "25.2",
         "33.8"
        ],
        [
         "Under 25 years",
         "66.0",
         "14.563636363636363",
         "2.906895587743384",
         "10.8",
         "12.6",
         "13.25",
         "16.224999999999998",
         "21.4"
        ],
        [
         "White, Non-Hispanic",
         "66.0",
         "18.974242424242423",
         "3.993429627084993",
         "14.2",
         "15.95",
         "17.8",
         "20.075000000000003",
         "28.0"
        ]
       ],
       "shape": {
        "columns": 8,
        "rows": 10
       }
      },
      "text/html": [
       "<div>\n",
       "<style scoped>\n",
       "    .dataframe tbody tr th:only-of-type {\n",
       "        vertical-align: middle;\n",
       "    }\n",
       "\n",
       "    .dataframe tbody tr th {\n",
       "        vertical-align: top;\n",
       "    }\n",
       "\n",
       "    .dataframe thead th {\n",
       "        text-align: right;\n",
       "    }\n",
       "</style>\n",
       "<table border=\"1\" class=\"dataframe\">\n",
       "  <thead>\n",
       "    <tr style=\"text-align: right;\">\n",
       "      <th></th>\n",
       "      <th>count</th>\n",
       "      <th>mean</th>\n",
       "      <th>std</th>\n",
       "      <th>min</th>\n",
       "      <th>25%</th>\n",
       "      <th>50%</th>\n",
       "      <th>75%</th>\n",
       "      <th>max</th>\n",
       "    </tr>\n",
       "    <tr>\n",
       "      <th>Subgroup</th>\n",
       "      <th></th>\n",
       "      <th></th>\n",
       "      <th></th>\n",
       "      <th></th>\n",
       "      <th></th>\n",
       "      <th></th>\n",
       "      <th></th>\n",
       "      <th></th>\n",
       "    </tr>\n",
       "  </thead>\n",
       "  <tbody>\n",
       "    <tr>\n",
       "      <th>25-39 years</th>\n",
       "      <td>66.0</td>\n",
       "      <td>22.015152</td>\n",
       "      <td>4.555512</td>\n",
       "      <td>16.4</td>\n",
       "      <td>18.700</td>\n",
       "      <td>20.20</td>\n",
       "      <td>23.925</td>\n",
       "      <td>32.2</td>\n",
       "    </tr>\n",
       "    <tr>\n",
       "      <th>40 years and over</th>\n",
       "      <td>66.0</td>\n",
       "      <td>92.350000</td>\n",
       "      <td>26.388816</td>\n",
       "      <td>56.3</td>\n",
       "      <td>72.500</td>\n",
       "      <td>79.35</td>\n",
       "      <td>119.525</td>\n",
       "      <td>141.9</td>\n",
       "    </tr>\n",
       "    <tr>\n",
       "      <th>American Indian or Alaska Native, Non-Hispanic</th>\n",
       "      <td>14.0</td>\n",
       "      <td>95.728571</td>\n",
       "      <td>10.758212</td>\n",
       "      <td>77.6</td>\n",
       "      <td>92.025</td>\n",
       "      <td>94.30</td>\n",
       "      <td>100.000</td>\n",
       "      <td>118.7</td>\n",
       "    </tr>\n",
       "    <tr>\n",
       "      <th>Asian, Non-Hispanic</th>\n",
       "      <td>66.0</td>\n",
       "      <td>13.721212</td>\n",
       "      <td>2.659469</td>\n",
       "      <td>9.1</td>\n",
       "      <td>11.925</td>\n",
       "      <td>13.35</td>\n",
       "      <td>15.100</td>\n",
       "      <td>19.8</td>\n",
       "    </tr>\n",
       "    <tr>\n",
       "      <th>Black, Non-Hispanic</th>\n",
       "      <td>66.0</td>\n",
       "      <td>52.360606</td>\n",
       "      <td>9.240594</td>\n",
       "      <td>38.3</td>\n",
       "      <td>47.325</td>\n",
       "      <td>50.25</td>\n",
       "      <td>57.500</td>\n",
       "      <td>72.7</td>\n",
       "    </tr>\n",
       "    <tr>\n",
       "      <th>Hispanic</th>\n",
       "      <td>66.0</td>\n",
       "      <td>17.003030</td>\n",
       "      <td>5.489962</td>\n",
       "      <td>10.1</td>\n",
       "      <td>13.125</td>\n",
       "      <td>14.95</td>\n",
       "      <td>20.900</td>\n",
       "      <td>28.5</td>\n",
       "    </tr>\n",
       "    <tr>\n",
       "      <th>Native Hawaiian or Other Pacific Islander, Non-Hispanic</th>\n",
       "      <td>2.0</td>\n",
       "      <td>0.000000</td>\n",
       "      <td>0.000000</td>\n",
       "      <td>0.0</td>\n",
       "      <td>0.000</td>\n",
       "      <td>0.00</td>\n",
       "      <td>0.000</td>\n",
       "      <td>0.0</td>\n",
       "    </tr>\n",
       "    <tr>\n",
       "      <th>Total</th>\n",
       "      <td>66.0</td>\n",
       "      <td>22.974242</td>\n",
       "      <td>4.906646</td>\n",
       "      <td>17.3</td>\n",
       "      <td>19.225</td>\n",
       "      <td>20.80</td>\n",
       "      <td>25.200</td>\n",
       "      <td>33.8</td>\n",
       "    </tr>\n",
       "    <tr>\n",
       "      <th>Under 25 years</th>\n",
       "      <td>66.0</td>\n",
       "      <td>14.563636</td>\n",
       "      <td>2.906896</td>\n",
       "      <td>10.8</td>\n",
       "      <td>12.600</td>\n",
       "      <td>13.25</td>\n",
       "      <td>16.225</td>\n",
       "      <td>21.4</td>\n",
       "    </tr>\n",
       "    <tr>\n",
       "      <th>White, Non-Hispanic</th>\n",
       "      <td>66.0</td>\n",
       "      <td>18.974242</td>\n",
       "      <td>3.993430</td>\n",
       "      <td>14.2</td>\n",
       "      <td>15.950</td>\n",
       "      <td>17.80</td>\n",
       "      <td>20.075</td>\n",
       "      <td>28.0</td>\n",
       "    </tr>\n",
       "  </tbody>\n",
       "</table>\n",
       "</div>"
      ],
      "text/plain": [
       "                                                    count       mean  \\\n",
       "Subgroup                                                               \n",
       "25-39 years                                          66.0  22.015152   \n",
       "40 years and over                                    66.0  92.350000   \n",
       "American Indian or Alaska Native, Non-Hispanic       14.0  95.728571   \n",
       "Asian, Non-Hispanic                                  66.0  13.721212   \n",
       "Black, Non-Hispanic                                  66.0  52.360606   \n",
       "Hispanic                                             66.0  17.003030   \n",
       "Native Hawaiian or Other Pacific Islander, Non-...    2.0   0.000000   \n",
       "Total                                                66.0  22.974242   \n",
       "Under 25 years                                       66.0  14.563636   \n",
       "White, Non-Hispanic                                  66.0  18.974242   \n",
       "\n",
       "                                                          std   min     25%  \\\n",
       "Subgroup                                                                      \n",
       "25-39 years                                          4.555512  16.4  18.700   \n",
       "40 years and over                                   26.388816  56.3  72.500   \n",
       "American Indian or Alaska Native, Non-Hispanic      10.758212  77.6  92.025   \n",
       "Asian, Non-Hispanic                                  2.659469   9.1  11.925   \n",
       "Black, Non-Hispanic                                  9.240594  38.3  47.325   \n",
       "Hispanic                                             5.489962  10.1  13.125   \n",
       "Native Hawaiian or Other Pacific Islander, Non-...   0.000000   0.0   0.000   \n",
       "Total                                                4.906646  17.3  19.225   \n",
       "Under 25 years                                       2.906896  10.8  12.600   \n",
       "White, Non-Hispanic                                  3.993430  14.2  15.950   \n",
       "\n",
       "                                                      50%      75%    max  \n",
       "Subgroup                                                                   \n",
       "25-39 years                                         20.20   23.925   32.2  \n",
       "40 years and over                                   79.35  119.525  141.9  \n",
       "American Indian or Alaska Native, Non-Hispanic      94.30  100.000  118.7  \n",
       "Asian, Non-Hispanic                                 13.35   15.100   19.8  \n",
       "Black, Non-Hispanic                                 50.25   57.500   72.7  \n",
       "Hispanic                                            14.95   20.900   28.5  \n",
       "Native Hawaiian or Other Pacific Islander, Non-...   0.00    0.000    0.0  \n",
       "Total                                               20.80   25.200   33.8  \n",
       "Under 25 years                                      13.25   16.225   21.4  \n",
       "White, Non-Hispanic                                 17.80   20.075   28.0  "
      ]
     },
     "execution_count": 26,
     "metadata": {},
     "output_type": "execute_result"
    }
   ],
   "source": [
    "# Describe the summary statistics of the \"Maternal Mortality Rate\" column for each category in the \"Subgroup\" categories\n",
    "df.groupby('Subgroup')['Maternal Mortality Rate'].describe()"
   ]
  },
  {
   "cell_type": "code",
   "execution_count": 28,
   "metadata": {},
   "outputs": [
    {
     "ename": "ValueError",
     "evalue": "could not convert string to float: 'Under 25 years'",
     "output_type": "error",
     "traceback": [
      "\u001b[0;31m---------------------------------------------------------------------------\u001b[0m",
      "\u001b[0;31mValueError\u001b[0m                                Traceback (most recent call last)",
      "Cell \u001b[0;32mIn[28], line 2\u001b[0m\n\u001b[1;32m      1\u001b[0m \u001b[38;5;66;03m# Calculate the correlation between the \"Maternal Mortality Rate\" and \"Supgroup\" columns of rows 68-133\u001b[39;00m\n\u001b[0;32m----> 2\u001b[0m \u001b[43mdf\u001b[49m\u001b[38;5;241;43m.\u001b[39;49m\u001b[43mloc\u001b[49m\u001b[43m[\u001b[49m\u001b[38;5;241;43m68\u001b[39;49m\u001b[43m:\u001b[49m\u001b[38;5;241;43m133\u001b[39;49m\u001b[43m,\u001b[49m\u001b[43m \u001b[49m\u001b[43m[\u001b[49m\u001b[38;5;124;43m'\u001b[39;49m\u001b[38;5;124;43mMaternal Mortality Rate\u001b[39;49m\u001b[38;5;124;43m'\u001b[39;49m\u001b[43m,\u001b[49m\u001b[43m \u001b[49m\u001b[38;5;124;43m'\u001b[39;49m\u001b[38;5;124;43mSubgroup\u001b[39;49m\u001b[38;5;124;43m'\u001b[39;49m\u001b[43m]\u001b[49m\u001b[43m]\u001b[49m\u001b[38;5;241;43m.\u001b[39;49m\u001b[43mcorr\u001b[49m\u001b[43m(\u001b[49m\u001b[43m)\u001b[49m\n",
      "File \u001b[0;32m~/Desktop/PUBH 1142/.venv/lib/python3.13/site-packages/pandas/core/frame.py:11049\u001b[0m, in \u001b[0;36mDataFrame.corr\u001b[0;34m(self, method, min_periods, numeric_only)\u001b[0m\n\u001b[1;32m  11047\u001b[0m cols \u001b[38;5;241m=\u001b[39m data\u001b[38;5;241m.\u001b[39mcolumns\n\u001b[1;32m  11048\u001b[0m idx \u001b[38;5;241m=\u001b[39m cols\u001b[38;5;241m.\u001b[39mcopy()\n\u001b[0;32m> 11049\u001b[0m mat \u001b[38;5;241m=\u001b[39m \u001b[43mdata\u001b[49m\u001b[38;5;241;43m.\u001b[39;49m\u001b[43mto_numpy\u001b[49m\u001b[43m(\u001b[49m\u001b[43mdtype\u001b[49m\u001b[38;5;241;43m=\u001b[39;49m\u001b[38;5;28;43mfloat\u001b[39;49m\u001b[43m,\u001b[49m\u001b[43m \u001b[49m\u001b[43mna_value\u001b[49m\u001b[38;5;241;43m=\u001b[39;49m\u001b[43mnp\u001b[49m\u001b[38;5;241;43m.\u001b[39;49m\u001b[43mnan\u001b[49m\u001b[43m,\u001b[49m\u001b[43m \u001b[49m\u001b[43mcopy\u001b[49m\u001b[38;5;241;43m=\u001b[39;49m\u001b[38;5;28;43;01mFalse\u001b[39;49;00m\u001b[43m)\u001b[49m\n\u001b[1;32m  11051\u001b[0m \u001b[38;5;28;01mif\u001b[39;00m method \u001b[38;5;241m==\u001b[39m \u001b[38;5;124m\"\u001b[39m\u001b[38;5;124mpearson\u001b[39m\u001b[38;5;124m\"\u001b[39m:\n\u001b[1;32m  11052\u001b[0m     correl \u001b[38;5;241m=\u001b[39m libalgos\u001b[38;5;241m.\u001b[39mnancorr(mat, minp\u001b[38;5;241m=\u001b[39mmin_periods)\n",
      "File \u001b[0;32m~/Desktop/PUBH 1142/.venv/lib/python3.13/site-packages/pandas/core/frame.py:1993\u001b[0m, in \u001b[0;36mDataFrame.to_numpy\u001b[0;34m(self, dtype, copy, na_value)\u001b[0m\n\u001b[1;32m   1991\u001b[0m \u001b[38;5;28;01mif\u001b[39;00m dtype \u001b[38;5;129;01mis\u001b[39;00m \u001b[38;5;129;01mnot\u001b[39;00m \u001b[38;5;28;01mNone\u001b[39;00m:\n\u001b[1;32m   1992\u001b[0m     dtype \u001b[38;5;241m=\u001b[39m np\u001b[38;5;241m.\u001b[39mdtype(dtype)\n\u001b[0;32m-> 1993\u001b[0m result \u001b[38;5;241m=\u001b[39m \u001b[38;5;28;43mself\u001b[39;49m\u001b[38;5;241;43m.\u001b[39;49m\u001b[43m_mgr\u001b[49m\u001b[38;5;241;43m.\u001b[39;49m\u001b[43mas_array\u001b[49m\u001b[43m(\u001b[49m\u001b[43mdtype\u001b[49m\u001b[38;5;241;43m=\u001b[39;49m\u001b[43mdtype\u001b[49m\u001b[43m,\u001b[49m\u001b[43m \u001b[49m\u001b[43mcopy\u001b[49m\u001b[38;5;241;43m=\u001b[39;49m\u001b[43mcopy\u001b[49m\u001b[43m,\u001b[49m\u001b[43m \u001b[49m\u001b[43mna_value\u001b[49m\u001b[38;5;241;43m=\u001b[39;49m\u001b[43mna_value\u001b[49m\u001b[43m)\u001b[49m\n\u001b[1;32m   1994\u001b[0m \u001b[38;5;28;01mif\u001b[39;00m result\u001b[38;5;241m.\u001b[39mdtype \u001b[38;5;129;01mis\u001b[39;00m \u001b[38;5;129;01mnot\u001b[39;00m dtype:\n\u001b[1;32m   1995\u001b[0m     result \u001b[38;5;241m=\u001b[39m np\u001b[38;5;241m.\u001b[39masarray(result, dtype\u001b[38;5;241m=\u001b[39mdtype)\n",
      "File \u001b[0;32m~/Desktop/PUBH 1142/.venv/lib/python3.13/site-packages/pandas/core/internals/managers.py:1694\u001b[0m, in \u001b[0;36mBlockManager.as_array\u001b[0;34m(self, dtype, copy, na_value)\u001b[0m\n\u001b[1;32m   1692\u001b[0m         arr\u001b[38;5;241m.\u001b[39mflags\u001b[38;5;241m.\u001b[39mwriteable \u001b[38;5;241m=\u001b[39m \u001b[38;5;28;01mFalse\u001b[39;00m\n\u001b[1;32m   1693\u001b[0m \u001b[38;5;28;01melse\u001b[39;00m:\n\u001b[0;32m-> 1694\u001b[0m     arr \u001b[38;5;241m=\u001b[39m \u001b[38;5;28;43mself\u001b[39;49m\u001b[38;5;241;43m.\u001b[39;49m\u001b[43m_interleave\u001b[49m\u001b[43m(\u001b[49m\u001b[43mdtype\u001b[49m\u001b[38;5;241;43m=\u001b[39;49m\u001b[43mdtype\u001b[49m\u001b[43m,\u001b[49m\u001b[43m \u001b[49m\u001b[43mna_value\u001b[49m\u001b[38;5;241;43m=\u001b[39;49m\u001b[43mna_value\u001b[49m\u001b[43m)\u001b[49m\n\u001b[1;32m   1695\u001b[0m     \u001b[38;5;66;03m# The underlying data was copied within _interleave, so no need\u001b[39;00m\n\u001b[1;32m   1696\u001b[0m     \u001b[38;5;66;03m# to further copy if copy=True or setting na_value\u001b[39;00m\n\u001b[1;32m   1698\u001b[0m \u001b[38;5;28;01mif\u001b[39;00m na_value \u001b[38;5;129;01mis\u001b[39;00m lib\u001b[38;5;241m.\u001b[39mno_default:\n",
      "File \u001b[0;32m~/Desktop/PUBH 1142/.venv/lib/python3.13/site-packages/pandas/core/internals/managers.py:1753\u001b[0m, in \u001b[0;36mBlockManager._interleave\u001b[0;34m(self, dtype, na_value)\u001b[0m\n\u001b[1;32m   1751\u001b[0m     \u001b[38;5;28;01melse\u001b[39;00m:\n\u001b[1;32m   1752\u001b[0m         arr \u001b[38;5;241m=\u001b[39m blk\u001b[38;5;241m.\u001b[39mget_values(dtype)\n\u001b[0;32m-> 1753\u001b[0m     \u001b[43mresult\u001b[49m\u001b[43m[\u001b[49m\u001b[43mrl\u001b[49m\u001b[38;5;241;43m.\u001b[39;49m\u001b[43mindexer\u001b[49m\u001b[43m]\u001b[49m \u001b[38;5;241m=\u001b[39m arr\n\u001b[1;32m   1754\u001b[0m     itemmask[rl\u001b[38;5;241m.\u001b[39mindexer] \u001b[38;5;241m=\u001b[39m \u001b[38;5;241m1\u001b[39m\n\u001b[1;32m   1756\u001b[0m \u001b[38;5;28;01mif\u001b[39;00m \u001b[38;5;129;01mnot\u001b[39;00m itemmask\u001b[38;5;241m.\u001b[39mall():\n",
      "\u001b[0;31mValueError\u001b[0m: could not convert string to float: 'Under 25 years'"
     ]
    }
   ],
   "source": [
    "# Calculate the correlation between the \"Maternal Mortality Rate\" and \"Supgroup\" columns of rows 68-133\n",
    "df.loc[68:133, ['Maternal Mortality Rate', 'Subgroup']].corr()"
   ]
  },
  {
   "cell_type": "code",
   "execution_count": null,
   "metadata": {},
   "outputs": [],
   "source": []
  }
 ],
 "metadata": {
  "kernelspec": {
   "display_name": ".venv",
   "language": "python",
   "name": "python3"
  },
  "language_info": {
   "codemirror_mode": {
    "name": "ipython",
    "version": 3
   },
   "file_extension": ".py",
   "mimetype": "text/x-python",
   "name": "python",
   "nbconvert_exporter": "python",
   "pygments_lexer": "ipython3",
   "version": "3.13.1"
  }
 },
 "nbformat": 4,
 "nbformat_minor": 2
}
