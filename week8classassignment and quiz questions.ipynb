{
 "cells": [
  {
   "cell_type": "markdown",
   "metadata": {},
   "source": [
    "## DATA IMPORT\n"
   ]
  },
  {
   "cell_type": "code",
   "execution_count": 79,
   "metadata": {},
   "outputs": [],
   "source": [
    "import pandas as pd\n",
    "import numpy as np"
   ]
  },
  {
   "cell_type": "markdown",
   "metadata": {},
   "source": [
    "## Column Headings"
   ]
  },
  {
   "cell_type": "code",
   "execution_count": 80,
   "metadata": {},
   "outputs": [
    {
     "data": {
      "text/plain": [
       "Index(['Data As Of', 'Jurisdiction', 'Group', 'Subgroup', 'Year of Death',\n",
       "       'Month of Death', 'Time Period', 'Month Ending Date', 'Maternal Deaths',\n",
       "       'Live Births', 'Maternal Mortality Rate', 'Footnote'],\n",
       "      dtype='object')"
      ]
     },
     "execution_count": 80,
     "metadata": {},
     "output_type": "execute_result"
    }
   ],
   "source": [
    "# Print the columns of df\n",
    "maternal.columns"
   ]
  },
  {
   "cell_type": "code",
   "execution_count": 81,
   "metadata": {},
   "outputs": [
    {
     "name": "stdout",
     "output_type": "stream",
     "text": [
      "Data As Of                  object\n",
      "Jurisdiction                object\n",
      "Group                       object\n",
      "Subgroup                    object\n",
      "Year of Death                int64\n",
      "Month of Death               int64\n",
      "Time Period                 object\n",
      "Month Ending Date           object\n",
      "Maternal Deaths             object\n",
      "Live Births                 object\n",
      "Maternal Mortality Rate    float64\n",
      "Footnote                    object\n",
      "dtype: object\n"
     ]
    }
   ],
   "source": [
    "# Print the type of df\n",
    "print(maternal.dtypes)"
   ]
  },
  {
   "cell_type": "code",
   "execution_count": 99,
   "metadata": {},
   "outputs": [
    {
     "name": "stdout",
     "output_type": "stream",
     "text": [
      "  Data As Of   Jurisdiction  Group Subgroup  Year of Death  Month of Death  \\\n",
      "0    10/6/24  United States  Total    Total           2019               1   \n",
      "1    10/6/24  United States  Total    Total           2019               2   \n",
      "2    10/6/24  United States  Total    Total           2019               3   \n",
      "3    10/6/24  United States  Total    Total           2019               4   \n",
      "4    10/6/24  United States  Total    Total           2019               5   \n",
      "\n",
      "       Time Period Month Ending Date Maternal Deaths Live Births  \\\n",
      "0  12 month-ending           1/31/19             660   3,787,776   \n",
      "1  12 month-ending           2/28/19             653   3,783,489   \n",
      "2  12 month-ending           3/31/19             657   3,771,682   \n",
      "3  12 month-ending           4/30/19             668   3,772,235   \n",
      "4  12 month-ending           5/31/19             706   3,767,999   \n",
      "\n",
      "   Maternal Mortality Rate Footnote  \n",
      "0                     17.4      NaN  \n",
      "1                     17.3      NaN  \n",
      "2                     17.4      NaN  \n",
      "3                     17.7      NaN  \n",
      "4                     18.7      NaN  \n"
     ]
    }
   ],
   "source": [
    "# Use the head method to print the first 5 rows of df\n",
    "print(maternal.head())"
   ]
  },
  {
   "cell_type": "markdown",
   "metadata": {},
   "source": [
    "### Data As Of column"
   ]
  },
  {
   "cell_type": "code",
   "execution_count": 100,
   "metadata": {},
   "outputs": [
    {
     "name": "stdout",
     "output_type": "stream",
     "text": [
      "0      660\n",
      "1      653\n",
      "2      657\n",
      "3      668\n",
      "4      706\n",
      "      ... \n",
      "655    259\n",
      "656    263\n",
      "657    264\n",
      "658    271\n",
      "659    272\n",
      "Name: Maternal Deaths, Length: 660, dtype: object\n"
     ]
    }
   ],
   "source": [
    "\n",
    "maternal_death_column = maternal['Maternal Deaths']\n",
    "\n",
    "# Print the maternal_death_column to verify\n",
    "print(maternal_death_column)"
   ]
  },
  {
   "cell_type": "code",
   "execution_count": 101,
   "metadata": {},
   "outputs": [
    {
     "name": "stdout",
     "output_type": "stream",
     "text": [
      "[660. 653. 657. 668. 706. 720. 721. 723. 729. 739. 752. 754. 740. 740.\n",
      " 751. 767. 763. 774. 793. 803. 831. 843. 837. 861. 893. 899. 894. 899.\n",
      " 911. 904. 908. 987. 942. 894. 870. 817. 766. 755. 762. 758. 732. 716.\n",
      " 704. 688. 689. 676. 669. 673. 677. 677. 679. 678. 706. 708.  98. 103.\n",
      " 101. 107. 113. 116. 117. 113. 117. 112. 112. 111. 113. 112. 112. 106.\n",
      " 109. 110. 103. 106. 105. 113. 109. 114. 111. 110. 116. 120. 118. 123.\n",
      " 124. 133. 142. 144. 154. 163. 168. 171. 165. 162. 158. 156. 160. 150.\n",
      " 139. 131. 123. 113. 106.  98. 102.  99.  96.  92.  92.  88.  91.  90.\n",
      "  94.  96. 101. 108. 112. 116. 124. 124. 461. 453. 464. 469. 500. 511.\n",
      " 510. 516. 514. 528. 547. 544. 528. 531. 541. 558. 549. 554. 574. 581.\n",
      " 602. 607. 592. 607. 635. 635. 632. 625. 633. 625. 628. 686. 763. 800.\n",
      " 822. 854. 877. 886. 871. 856. 835. 842. 823. 750. 650. 616. 607. 578.\n",
      " 544. 545. 550. 553. 537. 528. 520. 506. 510. 503. 492. 488. 477. 471.\n",
      " 466. 461. 474. 472. 101.  97.  92.  92.  93.  93.  93.  93.  97.  98.\n",
      "  92.  98.  98.  96.  97. 102. 104. 109. 116. 116. 124. 123. 136. 140.\n",
      " 147. 154. 146. 154. 160. 156. 156. 168. 178. 187. 181. 188. 191. 192.\n",
      " 195. 182. 178. 182. 182. 167. 153. 147. 140. 126. 116. 112. 110. 106.\n",
      "  99.  96.  92.  94.  88.  83.  83.  89.  99.  98. 101. 101. 108. 112.\n",
      "  90.  90.  89.  96. 103. 105. 100. 100.  96. 103. 109. 112. 110. 114.\n",
      " 115. 120. 118. 123. 136. 142. 148. 153. 150. 158. 177. 180. 186. 179.\n",
      " 179. 174. 172. 191. 216. 230. 250. 248. 251. 248. 245. 242. 240. 245.\n",
      " 240. 216. 184. 168. 155. 158. 145. 143. 139. 142. 135. 130. 126. 126.\n",
      " 130. 128. 125. 119. 124. 127. 130. 127. 129. 133.  12.  11.  12.  14.\n",
      "  16.  15.  14.  14.  14.  14.  15.  16.  13.  15.  15.  13.  12.  12.\n",
      "  13.  13.  17.  18.  17.  16.  19.  18.  21.  24.  25.  24.  25.  31.\n",
      "  29.  27.  26.  26.  24.  24.  23.  20.  19.  19.  17.  12.  10.  10.\n",
      "  13.  13.  12.  12.  10.  10.  10.  11.  11.  11.  12.  12.  11.  33.\n",
      "  30.  30.  33.  33.  36.  42.  40.  37.  39.  36.  33.  32.  30.  27.\n",
      "  25.  30.  30.  26.  27.  28.  28.  29.  27.  29.  30.  31.  30.  28.\n",
      "  27.  25.  28.  30.  30.  28.  36.  41.  42.  43.  43.  42.  39.  39.\n",
      "  36.  34.  34.  35.  29.  23.  22.  20.  23.  21.  22.  25.  24.  22.\n",
      "  22.  22.  23.  26.  28.  31.  31.  32.  32. 221. 221. 216. 210. 216.\n",
      " 224. 224. 232. 236. 235. 241. 241. 233. 229. 243. 262. 266. 264. 267.\n",
      " 262. 271. 280. 278. 293. 294. 300. 299. 296. 298. 302. 307. 329. 355.\n",
      " 363. 359. 362. 374. 378. 365. 356. 346. 340. 332. 307. 275. 265. 270.\n",
      " 253. 243. 245. 261. 261. 250. 250. 254. 242. 241. 236. 241. 248. 245.\n",
      " 238. 230. 228. 246. 246.   0.   0. 292. 287. 299. 306. 328. 331. 330.\n",
      " 323. 330. 335. 338. 343. 340. 345. 341. 333. 326. 329. 334. 344. 354.\n",
      " 352. 350. 352. 357. 352. 343. 362. 369. 367. 369. 395. 438. 461. 470.\n",
      " 503. 517. 529. 528. 508. 494. 506. 504. 468. 411. 392. 380. 350. 331.\n",
      " 320. 313. 304. 299. 287. 276. 273. 273. 266. 255. 260. 256. 259. 263.\n",
      " 264. 271. 272.]\n"
     ]
    }
   ],
   "source": [
    "# Replace 'your_file.csv' with the actual path to your CSV file\n",
    "df = pd.read_csv('maternal data #1.csv')\n",
    "\n",
    "# Ensure the column name is correct\n",
    "maternal_death_column_name = 'Maternal Deaths'  # Updated column name\n",
    "\n",
    "# Check if the column exists in the DataFrame\n",
    "if maternal_death_column_name in df.columns:\n",
    "    # Assign the column to a variable\n",
    "    maternal_death_column = df[maternal_death_column_name]\n",
    "    \n",
    "    # Convert the column to a numpy array, ensuring numeric values and handling missing values\n",
    "    maternal_death = pd.to_numeric(maternal_death_column, errors='coerce').dropna().values\n",
    "    \n",
    "    # Print the numpy array to verify\n",
    "    print(maternal_death)\n",
    "    \n",
    "    "
   ]
  },
  {
   "cell_type": "markdown",
   "metadata": {},
   "source": [
    "### Mean of Maternal Death"
   ]
  },
  {
   "cell_type": "code",
   "execution_count": 102,
   "metadata": {},
   "outputs": [
    {
     "name": "stdout",
     "output_type": "stream",
     "text": [
      "262.63431542461007\n"
     ]
    }
   ],
   "source": [
    "# Calculate and print the mean\n",
    "mean = np.mean(maternal_death)\n",
    "print(mean)"
   ]
  },
  {
   "cell_type": "markdown",
   "metadata": {},
   "source": [
    "### Maximum and Minimum Deaths"
   ]
  },
  {
   "cell_type": "code",
   "execution_count": 103,
   "metadata": {},
   "outputs": [
    {
     "name": "stdout",
     "output_type": "stream",
     "text": [
      "987.0\n"
     ]
    }
   ],
   "source": [
    "# Calculate and print the maximum\n",
    "maximum = np.max(maternal_death)\n",
    "print(maximum)"
   ]
  },
  {
   "cell_type": "code",
   "execution_count": 104,
   "metadata": {},
   "outputs": [
    {
     "name": "stdout",
     "output_type": "stream",
     "text": [
      "0.0\n"
     ]
    }
   ],
   "source": [
    "# Calculate and print the minimum\n",
    "minimum = np.min(maternal_death)\n",
    "print(minimum)"
   ]
  },
  {
   "cell_type": "markdown",
   "metadata": {},
   "source": [
    "### Find the month that had the highest mortality rate"
   ]
  },
  {
   "cell_type": "code",
   "execution_count": 115,
   "metadata": {},
   "outputs": [
    {
     "name": "stdout",
     "output_type": "stream",
     "text": [
      "  Data As Of   Jurisdiction  Group Subgroup  Year of Death  Month of Death  \\\n",
      "0    10/6/24  United States  Total    Total           2019               1   \n",
      "1    10/6/24  United States  Total    Total           2019               2   \n",
      "2    10/6/24  United States  Total    Total           2019               3   \n",
      "3    10/6/24  United States  Total    Total           2019               4   \n",
      "4    10/6/24  United States  Total    Total           2019               5   \n",
      "\n",
      "       Time Period Month Ending Date Maternal Deaths Live Births  \\\n",
      "0  12 month-ending        2019-01-31             660   3,787,776   \n",
      "1  12 month-ending        2019-02-28             653   3,783,489   \n",
      "2  12 month-ending        2019-03-31             657   3,771,682   \n",
      "3  12 month-ending        2019-04-30             668   3,772,235   \n",
      "4  12 month-ending        2019-05-31             706   3,767,999   \n",
      "\n",
      "   Maternal Mortality Rate Footnote  \n",
      "0                     17.4      NaN  \n",
      "1                     17.3      NaN  \n",
      "2                     17.4      NaN  \n",
      "3                     17.7      NaN  \n",
      "4                     18.7      NaN  \n",
      "[660. 653. 657. 668. 706. 720. 721. 723. 729. 739. 752. 754. 740. 751.\n",
      " 767. 763. 774. 793. 803. 831. 843. 837. 861. 893. 899. 894. 911. 904.\n",
      " 908. 987.  nan 942. 870. 817. 766. 755. 762. 758. 732. 716. 704. 688.\n",
      " 689. 676. 669. 673. 677. 679. 678. 708.  98. 103. 101. 107. 113. 116.\n",
      " 117. 112. 111. 106. 109. 110. 105. 114. 120. 118. 123. 124. 133. 142.\n",
      " 144. 154. 163. 168. 171. 165. 162. 158. 156. 160. 150. 139. 131. 102.\n",
      "  99.  96.  92.  88.  91.  90.  94. 108. 461. 453. 464. 469. 500. 511.\n",
      " 510. 516. 514. 528. 547. 544. 531. 541. 558. 549. 554. 574. 581. 602.\n",
      " 607. 592. 635. 632. 625. 633. 628. 686. 800. 822. 854. 877. 886. 871.\n",
      " 856. 835. 842. 823. 750. 650. 616. 578. 545. 550. 553. 537. 520. 506.\n",
      " 503. 492. 488. 477. 471. 466. 474. 472.  97.  93. 104. 136. 140. 147.\n",
      " 146. 178. 187. 181. 188. 191. 192. 195. 182. 167. 153. 126.  83.  89.\n",
      " 100. 115. 148. 177. 180. 186. 179. 174. 172. 216. 230. 250. 248. 251.\n",
      " 245. 242. 240. 184. 155. 145. 143. 135. 130. 128. 125. 119. 127. 129.\n",
      "  12.  11.  14.  16.  15.  13.  17.  18.  19.  21.  24.  25.  31.  29.\n",
      "  27.  26.  23.  20.  10.  33.  30.  36.  42.  40.  37.  39.  32.  28.\n",
      "  41.  43.  34.  35.  22. 221. 210. 224. 232. 236. 235. 241. 233. 229.\n",
      " 243. 262. 266. 264. 267. 271. 280. 278. 293. 294. 300. 299. 296. 298.\n",
      " 302. 307. 329. 355. 363. 359. 362. 374. 378. 365. 356. 346. 340. 332.\n",
      " 275. 265. 270. 253. 261. 254. 238. 228. 246.   0. 292. 287. 306. 328.\n",
      " 331. 330. 323. 335. 338. 343. 345. 341. 333. 326. 334. 344. 354. 352.\n",
      " 350. 357. 369. 367. 395. 438. 470. 517. 529. 508. 494. 504. 468. 411.\n",
      " 392. 380. 320. 313. 304. 276. 273. 255. 260. 256. 259. 263. 272.]\n",
      "The month ending date with the maximum maternal deaths of 987 is: August 31, 2021\n"
     ]
    }
   ],
   "source": [
    "# Ensure the column names are correct\n",
    "maternal_death_column_name = 'Maternal Deaths'\n",
    "month_ending_date_column_name = 'Month Ending Date'\n",
    "\n",
    "# Convert the 'Month Ending Date' column to datetime format\n",
    "df[month_ending_date_column_name] = pd.to_datetime(df[month_ending_date_column_name], format='%m/%d/%y')\n",
    "\n",
    "# Print the first few rows of the DataFrame to verify the data\n",
    "print(df.head())\n",
    "\n",
    "# Check if the columns exist in the DataFrame\n",
    "if maternal_death_column_name in df.columns and month_ending_date_column_name in df.columns:\n",
    "    # Ensure the 'Maternal Deaths' column is numeric\n",
    "    df[maternal_death_column_name] = pd.to_numeric(df[maternal_death_column_name], errors='coerce')\n",
    "    \n",
    "    # Print unique values in the 'Maternal Deaths' column to verify\n",
    "    print(df[maternal_death_column_name].unique())\n",
    "    \n",
    "    # Find the row where 'Maternal Deaths' is 987\n",
    "    max_deaths_row = df[df[maternal_death_column_name] == 987]\n",
    "    \n",
    "    # Extract the corresponding 'Month Ending Date'\n",
    "    if not max_deaths_row.empty:\n",
    "        max_deaths_date = max_deaths_row[month_ending_date_column_name].values[0]\n",
    "        formatted_date = pd.to_datetime(max_deaths_date).strftime('%B %d, %Y')\n",
    "        print(f\"The month ending date with the maximum maternal deaths of 987 is: {formatted_date}\")\n",
    "    else:\n",
    "        print(\"No month ending date found with maternal deaths of 987.\")\n",
    "else:\n",
    "    print(f\"One or both columns '{maternal_death_column_name}' and '{month_ending_date_column_name}' do not exist in the DataFrame.\")"
   ]
  },
  {
   "cell_type": "markdown",
   "metadata": {},
   "source": [
    "# Quiz Questions"
   ]
  },
  {
   "cell_type": "markdown",
   "metadata": {},
   "source": [
    "### 1: How do you import the pandas library in Python?"
   ]
  },
  {
   "cell_type": "markdown",
   "metadata": {},
   "source": [
    "#### code: import pandas as pd"
   ]
  },
  {
   "cell_type": "markdown",
   "metadata": {},
   "source": [
    "### 2: How do you read a CSV file named data.csv into a pandas DataFrame?"
   ]
  },
  {
   "cell_type": "markdown",
   "metadata": {},
   "source": [
    "#### import pandas as pd\n",
    "\n",
    "#### #Read the CSV file into a DataFrame\n",
    "df = pd.read_csv('data.csv')"
   ]
  },
  {
   "cell_type": "markdown",
   "metadata": {},
   "source": [
    "### 3: How do you display the first 5 rows of a DataFrame named df?"
   ]
  },
  {
   "cell_type": "markdown",
   "metadata": {},
   "source": [
    "#### # Display the first 5 rows of the DataFrame\n",
    "print(df.head())"
   ]
  },
  {
   "cell_type": "markdown",
   "metadata": {},
   "source": [
    "### 4: How do you find the number of rows and columns in a DataFrame df?"
   ]
  },
  {
   "cell_type": "markdown",
   "metadata": {},
   "source": [
    "#### # Get the number of rows and columns\n",
    "rows, columns = df.shape\n",
    "\n",
    "print(\"Number of rows:\", rows)\n",
    "print(\"Number of columns:\", columns)\n"
   ]
  },
  {
   "cell_type": "markdown",
   "metadata": {},
   "source": [
    "### 5: How do you print the names of all the columns in a DataFrame df?"
   ]
  },
  {
   "cell_type": "markdown",
   "metadata": {},
   "source": [
    "#### # Print the names of all the columns\n",
    "print(df.columns)\n"
   ]
  },
  {
   "cell_type": "markdown",
   "metadata": {},
   "source": [
    "### 6: How do you get the summary information of the DataFrame df including data types and non-null values?\n"
   ]
  },
  {
   "cell_type": "markdown",
   "metadata": {},
   "source": [
    "#### # Get the summary information of the DataFrame\n",
    "df.info()\n"
   ]
  },
  {
   "cell_type": "markdown",
   "metadata": {},
   "source": [
    "### 7: How do you select only the rows in DataFrame df where the column A is greater than 5?"
   ]
  },
  {
   "cell_type": "markdown",
   "metadata": {},
   "source": [
    "#### # Select rows where column A is greater than 5\n",
    "filtered_df = df[df['A'] > 5]\n"
   ]
  },
  {
   "cell_type": "markdown",
   "metadata": {},
   "source": [
    "### 8: How do you select the columns A and B from the DataFrame df?"
   ]
  },
  {
   "cell_type": "markdown",
   "metadata": {},
   "source": [
    "#### # Select columns A and B\n",
    "selected_columns = df[['A', 'B']]\n"
   ]
  },
  {
   "cell_type": "markdown",
   "metadata": {},
   "source": [
    "### 9: How do you rename the column A to Alpha in DataFrame df?"
   ]
  },
  {
   "cell_type": "markdown",
   "metadata": {},
   "source": [
    "#### # Rename column A to Alpha\n",
    "df = df.rename(columns={'A': 'Alpha'})\n"
   ]
  },
  {
   "cell_type": "markdown",
   "metadata": {},
   "source": [
    "### 10: How do you replace all occurrences of the value 999 in DataFrame df with nan?"
   ]
  },
  {
   "cell_type": "markdown",
   "metadata": {},
   "source": [
    "#### import numpy as np\n",
    "\n",
    "#### # Replace all occurrences of 999 with NaN\n",
    "df.replace(999, np.nan, inplace=True)\n"
   ]
  },
  {
   "cell_type": "markdown",
   "metadata": {},
   "source": [
    "### 11: How do you drop all rows in DataFrame df that contain missing values?"
   ]
  },
  {
   "cell_type": "markdown",
   "metadata": {},
   "source": [
    "#### # Drop all rows with missing values\n",
    "df_clean = df.dropna()\n"
   ]
  },
  {
   "cell_type": "markdown",
   "metadata": {},
   "source": [
    "### 12: How do you fill all missing values in DataFrame df with 0?"
   ]
  },
  {
   "cell_type": "markdown",
   "metadata": {},
   "source": [
    "#### # Fill all missing values with 0\n",
    "df_filled = df.fillna(0)\n"
   ]
  },
  {
   "cell_type": "markdown",
   "metadata": {},
   "source": [
    "### 13: How do you calculate the mean of column A in DataFrame df?"
   ]
  },
  {
   "cell_type": "markdown",
   "metadata": {},
   "source": [
    "#### # Calculate the mean of column A\n",
    "mean_value = df['A'].mean()\n",
    "\n",
    "print(mean_value)\n"
   ]
  },
  {
   "cell_type": "markdown",
   "metadata": {},
   "source": [
    "### 14: How do you create a new column C in DataFrame df that is the sum of columns A and B?"
   ]
  },
  {
   "cell_type": "markdown",
   "metadata": {},
   "source": [
    "#### # Create a new column C as the sum of columns A and B\n",
    "df['C'] = df['A'] + df['B']\n"
   ]
  },
  {
   "cell_type": "markdown",
   "metadata": {},
   "source": [
    "### 15: How do you save the DataFrame df to a CSV file named output.csv? (Find the solution by searching the pandas documentation.)"
   ]
  },
  {
   "cell_type": "markdown",
   "metadata": {},
   "source": [
    "#### import pandas as pd\n",
    "\n",
    "#### #Assuming df is your DataFrame\n",
    "df.to_csv('output.csv', index=False)\n"
   ]
  }
 ],
 "metadata": {
  "kernelspec": {
   "display_name": ".venv",
   "language": "python",
   "name": "python3"
  },
  "language_info": {
   "codemirror_mode": {
    "name": "ipython",
    "version": 3
   },
   "file_extension": ".py",
   "mimetype": "text/x-python",
   "name": "python",
   "nbconvert_exporter": "python",
   "pygments_lexer": "ipython3",
   "version": "3.13.1"
  }
 },
 "nbformat": 4,
 "nbformat_minor": 2
}
